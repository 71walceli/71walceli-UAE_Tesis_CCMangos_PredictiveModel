{
 "cells": [
  {
   "cell_type": "code",
   "execution_count": 1,
   "id": "6414256d",
   "metadata": {},
   "outputs": [],
   "source": [
    "import pandas as pd\n",
    "import numpy as np"
   ]
  },
  {
   "cell_type": "markdown",
   "id": "3c0ad0a6",
   "metadata": {},
   "source": [
    "# Data Loading"
   ]
  },
  {
   "cell_type": "code",
   "execution_count": 2,
   "id": "52edcfbd",
   "metadata": {},
   "outputs": [
    {
     "data": {
      "text/html": [
       "<div>\n",
       "<style scoped>\n",
       "    .dataframe tbody tr th:only-of-type {\n",
       "        vertical-align: middle;\n",
       "    }\n",
       "\n",
       "    .dataframe tbody tr th {\n",
       "        vertical-align: top;\n",
       "    }\n",
       "\n",
       "    .dataframe thead th {\n",
       "        text-align: right;\n",
       "    }\n",
       "</style>\n",
       "<table border=\"1\" class=\"dataframe\">\n",
       "  <thead>\n",
       "    <tr style=\"text-align: right;\">\n",
       "      <th></th>\n",
       "      <th>Temp_Air_Mean</th>\n",
       "      <th>Temp_Air_Min</th>\n",
       "      <th>Temp_Air_Max</th>\n",
       "      <th>Dew_Temp_Mean</th>\n",
       "      <th>Relat_Hum_Mean</th>\n",
       "      <th>Relat_Hum_Min</th>\n",
       "      <th>Relat_Hum_Max</th>\n",
       "      <th>Wind_Speed_Mean</th>\n",
       "      <th>Wind_Speed_Min</th>\n",
       "      <th>Wind_Speed_Max</th>\n",
       "    </tr>\n",
       "    <tr>\n",
       "      <th>Date</th>\n",
       "      <th></th>\n",
       "      <th></th>\n",
       "      <th></th>\n",
       "      <th></th>\n",
       "      <th></th>\n",
       "      <th></th>\n",
       "      <th></th>\n",
       "      <th></th>\n",
       "      <th></th>\n",
       "      <th></th>\n",
       "    </tr>\n",
       "  </thead>\n",
       "  <tbody>\n",
       "    <tr>\n",
       "      <th>2017-01-05 19:00:00-05:00</th>\n",
       "      <td>24.00</td>\n",
       "      <td>21.39</td>\n",
       "      <td>29.39</td>\n",
       "      <td>21.28</td>\n",
       "      <td>85.0</td>\n",
       "      <td>64.0</td>\n",
       "      <td>96.0</td>\n",
       "      <td>1.03</td>\n",
       "      <td>0.00</td>\n",
       "      <td>3.08</td>\n",
       "    </tr>\n",
       "    <tr>\n",
       "      <th>2017-01-06 19:00:00-05:00</th>\n",
       "      <td>22.67</td>\n",
       "      <td>21.11</td>\n",
       "      <td>27.00</td>\n",
       "      <td>20.00</td>\n",
       "      <td>85.0</td>\n",
       "      <td>67.0</td>\n",
       "      <td>92.0</td>\n",
       "      <td>2.32</td>\n",
       "      <td>0.09</td>\n",
       "      <td>5.72</td>\n",
       "    </tr>\n",
       "    <tr>\n",
       "      <th>2017-01-07 19:00:00-05:00</th>\n",
       "      <td>22.56</td>\n",
       "      <td>19.78</td>\n",
       "      <td>26.61</td>\n",
       "      <td>20.00</td>\n",
       "      <td>86.0</td>\n",
       "      <td>67.0</td>\n",
       "      <td>96.0</td>\n",
       "      <td>1.03</td>\n",
       "      <td>0.00</td>\n",
       "      <td>5.90</td>\n",
       "    </tr>\n",
       "    <tr>\n",
       "      <th>2017-01-08 19:00:00-05:00</th>\n",
       "      <td>22.44</td>\n",
       "      <td>20.22</td>\n",
       "      <td>25.89</td>\n",
       "      <td>19.39</td>\n",
       "      <td>83.0</td>\n",
       "      <td>70.0</td>\n",
       "      <td>92.0</td>\n",
       "      <td>1.70</td>\n",
       "      <td>0.00</td>\n",
       "      <td>5.72</td>\n",
       "    </tr>\n",
       "    <tr>\n",
       "      <th>2017-01-09 19:00:00-05:00</th>\n",
       "      <td>23.89</td>\n",
       "      <td>20.72</td>\n",
       "      <td>31.78</td>\n",
       "      <td>19.22</td>\n",
       "      <td>76.0</td>\n",
       "      <td>48.0</td>\n",
       "      <td>90.0</td>\n",
       "      <td>1.97</td>\n",
       "      <td>0.00</td>\n",
       "      <td>5.72</td>\n",
       "    </tr>\n",
       "    <tr>\n",
       "      <th>...</th>\n",
       "      <td>...</td>\n",
       "      <td>...</td>\n",
       "      <td>...</td>\n",
       "      <td>...</td>\n",
       "      <td>...</td>\n",
       "      <td>...</td>\n",
       "      <td>...</td>\n",
       "      <td>...</td>\n",
       "      <td>...</td>\n",
       "      <td>...</td>\n",
       "    </tr>\n",
       "    <tr>\n",
       "      <th>2023-11-25 00:00:00-05:00</th>\n",
       "      <td>26.00</td>\n",
       "      <td>21.00</td>\n",
       "      <td>32.00</td>\n",
       "      <td>21.00</td>\n",
       "      <td>47.0</td>\n",
       "      <td>91.0</td>\n",
       "      <td>51.0</td>\n",
       "      <td>2.00</td>\n",
       "      <td>1.00</td>\n",
       "      <td>3.00</td>\n",
       "    </tr>\n",
       "    <tr>\n",
       "      <th>2023-11-26 00:00:00-05:00</th>\n",
       "      <td>25.00</td>\n",
       "      <td>22.00</td>\n",
       "      <td>28.00</td>\n",
       "      <td>20.00</td>\n",
       "      <td>65.0</td>\n",
       "      <td>84.0</td>\n",
       "      <td>65.0</td>\n",
       "      <td>2.00</td>\n",
       "      <td>2.00</td>\n",
       "      <td>3.00</td>\n",
       "    </tr>\n",
       "    <tr>\n",
       "      <th>2023-11-27 00:00:00-05:00</th>\n",
       "      <td>25.00</td>\n",
       "      <td>22.00</td>\n",
       "      <td>30.00</td>\n",
       "      <td>20.00</td>\n",
       "      <td>57.0</td>\n",
       "      <td>85.0</td>\n",
       "      <td>57.0</td>\n",
       "      <td>2.00</td>\n",
       "      <td>1.00</td>\n",
       "      <td>3.00</td>\n",
       "    </tr>\n",
       "    <tr>\n",
       "      <th>2023-11-28 00:00:00-05:00</th>\n",
       "      <td>26.00</td>\n",
       "      <td>22.00</td>\n",
       "      <td>33.00</td>\n",
       "      <td>20.00</td>\n",
       "      <td>49.0</td>\n",
       "      <td>90.0</td>\n",
       "      <td>49.0</td>\n",
       "      <td>2.00</td>\n",
       "      <td>1.00</td>\n",
       "      <td>3.00</td>\n",
       "    </tr>\n",
       "    <tr>\n",
       "      <th>2023-11-29 00:00:00-05:00</th>\n",
       "      <td>23.00</td>\n",
       "      <td>22.00</td>\n",
       "      <td>26.00</td>\n",
       "      <td>20.00</td>\n",
       "      <td>68.0</td>\n",
       "      <td>83.0</td>\n",
       "      <td>68.0</td>\n",
       "      <td>2.00</td>\n",
       "      <td>1.00</td>\n",
       "      <td>2.00</td>\n",
       "    </tr>\n",
       "  </tbody>\n",
       "</table>\n",
       "<p>2300 rows × 10 columns</p>\n",
       "</div>"
      ],
      "text/plain": [
       "                           Temp_Air_Mean  Temp_Air_Min  Temp_Air_Max  \\\n",
       "Date                                                                   \n",
       "2017-01-05 19:00:00-05:00          24.00         21.39         29.39   \n",
       "2017-01-06 19:00:00-05:00          22.67         21.11         27.00   \n",
       "2017-01-07 19:00:00-05:00          22.56         19.78         26.61   \n",
       "2017-01-08 19:00:00-05:00          22.44         20.22         25.89   \n",
       "2017-01-09 19:00:00-05:00          23.89         20.72         31.78   \n",
       "...                                  ...           ...           ...   \n",
       "2023-11-25 00:00:00-05:00          26.00         21.00         32.00   \n",
       "2023-11-26 00:00:00-05:00          25.00         22.00         28.00   \n",
       "2023-11-27 00:00:00-05:00          25.00         22.00         30.00   \n",
       "2023-11-28 00:00:00-05:00          26.00         22.00         33.00   \n",
       "2023-11-29 00:00:00-05:00          23.00         22.00         26.00   \n",
       "\n",
       "                           Dew_Temp_Mean  Relat_Hum_Mean  Relat_Hum_Min  \\\n",
       "Date                                                                      \n",
       "2017-01-05 19:00:00-05:00          21.28            85.0           64.0   \n",
       "2017-01-06 19:00:00-05:00          20.00            85.0           67.0   \n",
       "2017-01-07 19:00:00-05:00          20.00            86.0           67.0   \n",
       "2017-01-08 19:00:00-05:00          19.39            83.0           70.0   \n",
       "2017-01-09 19:00:00-05:00          19.22            76.0           48.0   \n",
       "...                                  ...             ...            ...   \n",
       "2023-11-25 00:00:00-05:00          21.00            47.0           91.0   \n",
       "2023-11-26 00:00:00-05:00          20.00            65.0           84.0   \n",
       "2023-11-27 00:00:00-05:00          20.00            57.0           85.0   \n",
       "2023-11-28 00:00:00-05:00          20.00            49.0           90.0   \n",
       "2023-11-29 00:00:00-05:00          20.00            68.0           83.0   \n",
       "\n",
       "                           Relat_Hum_Max  Wind_Speed_Mean  Wind_Speed_Min  \\\n",
       "Date                                                                        \n",
       "2017-01-05 19:00:00-05:00           96.0             1.03            0.00   \n",
       "2017-01-06 19:00:00-05:00           92.0             2.32            0.09   \n",
       "2017-01-07 19:00:00-05:00           96.0             1.03            0.00   \n",
       "2017-01-08 19:00:00-05:00           92.0             1.70            0.00   \n",
       "2017-01-09 19:00:00-05:00           90.0             1.97            0.00   \n",
       "...                                  ...              ...             ...   \n",
       "2023-11-25 00:00:00-05:00           51.0             2.00            1.00   \n",
       "2023-11-26 00:00:00-05:00           65.0             2.00            2.00   \n",
       "2023-11-27 00:00:00-05:00           57.0             2.00            1.00   \n",
       "2023-11-28 00:00:00-05:00           49.0             2.00            1.00   \n",
       "2023-11-29 00:00:00-05:00           68.0             2.00            1.00   \n",
       "\n",
       "                           Wind_Speed_Max  \n",
       "Date                                       \n",
       "2017-01-05 19:00:00-05:00            3.08  \n",
       "2017-01-06 19:00:00-05:00            5.72  \n",
       "2017-01-07 19:00:00-05:00            5.90  \n",
       "2017-01-08 19:00:00-05:00            5.72  \n",
       "2017-01-09 19:00:00-05:00            5.72  \n",
       "...                                   ...  \n",
       "2023-11-25 00:00:00-05:00            3.00  \n",
       "2023-11-26 00:00:00-05:00            3.00  \n",
       "2023-11-27 00:00:00-05:00            3.00  \n",
       "2023-11-28 00:00:00-05:00            3.00  \n",
       "2023-11-29 00:00:00-05:00            2.00  \n",
       "\n",
       "[2300 rows x 10 columns]"
      ]
     },
     "execution_count": 2,
     "metadata": {},
     "output_type": "execute_result"
    }
   ],
   "source": [
    "datos_clima =  pd.read_pickle(\"etlData/datos_clima.pickle\")\n",
    "datos_clima"
   ]
  },
  {
   "cell_type": "code",
   "execution_count": 3,
   "id": "8d8a5257",
   "metadata": {},
   "outputs": [
    {
     "data": {
      "text/html": [
       "<div>\n",
       "<style scoped>\n",
       "    .dataframe tbody tr th:only-of-type {\n",
       "        vertical-align: middle;\n",
       "    }\n",
       "\n",
       "    .dataframe tbody tr th {\n",
       "        vertical-align: top;\n",
       "    }\n",
       "\n",
       "    .dataframe thead th {\n",
       "        text-align: right;\n",
       "    }\n",
       "</style>\n",
       "<table border=\"1\" class=\"dataframe\">\n",
       "  <thead>\n",
       "    <tr style=\"text-align: right;\">\n",
       "      <th></th>\n",
       "      <th></th>\n",
       "      <th>Cantidad</th>\n",
       "      <th>Fecha</th>\n",
       "      <th>Id_Area</th>\n",
       "      <th>Id_Lote</th>\n",
       "      <th>Variedad</th>\n",
       "    </tr>\n",
       "  </thead>\n",
       "  <tbody>\n",
       "    <tr>\n",
       "      <th rowspan=\"4\" valign=\"top\">30</th>\n",
       "      <th>2021</th>\n",
       "      <td>13805.0</td>\n",
       "      <td>2021-12-04</td>\n",
       "      <td>11</td>\n",
       "      <td>30</td>\n",
       "      <td>Tommy Atkins</td>\n",
       "    </tr>\n",
       "    <tr>\n",
       "      <th>2020</th>\n",
       "      <td>11497.0</td>\n",
       "      <td>2020-12-03</td>\n",
       "      <td>11</td>\n",
       "      <td>30</td>\n",
       "      <td>Tommy Atkins</td>\n",
       "    </tr>\n",
       "    <tr>\n",
       "      <th>2022</th>\n",
       "      <td>9019.0</td>\n",
       "      <td>2022-11-30</td>\n",
       "      <td>11</td>\n",
       "      <td>30</td>\n",
       "      <td>Tommy Atkins</td>\n",
       "    </tr>\n",
       "    <tr>\n",
       "      <th>2023</th>\n",
       "      <td>8848.0</td>\n",
       "      <td>2023-12-01</td>\n",
       "      <td>11</td>\n",
       "      <td>30</td>\n",
       "      <td>Tommy Atkins</td>\n",
       "    </tr>\n",
       "    <tr>\n",
       "      <th rowspan=\"4\" valign=\"top\">32</th>\n",
       "      <th>2022</th>\n",
       "      <td>11420.0</td>\n",
       "      <td>2022-12-21</td>\n",
       "      <td>12</td>\n",
       "      <td>32</td>\n",
       "      <td>Tommy Atkins</td>\n",
       "    </tr>\n",
       "    <tr>\n",
       "      <th>2021</th>\n",
       "      <td>14792.0</td>\n",
       "      <td>2021-11-29</td>\n",
       "      <td>12</td>\n",
       "      <td>32</td>\n",
       "      <td>Tommy Atkins</td>\n",
       "    </tr>\n",
       "    <tr>\n",
       "      <th>2020</th>\n",
       "      <td>11464.0</td>\n",
       "      <td>2020-12-02</td>\n",
       "      <td>12</td>\n",
       "      <td>32</td>\n",
       "      <td>Tommy Atkins</td>\n",
       "    </tr>\n",
       "    <tr>\n",
       "      <th>2023</th>\n",
       "      <td>9072.0</td>\n",
       "      <td>2023-11-30</td>\n",
       "      <td>12</td>\n",
       "      <td>32</td>\n",
       "      <td>Tommy Atkins</td>\n",
       "    </tr>\n",
       "    <tr>\n",
       "      <th rowspan=\"4\" valign=\"top\">33</th>\n",
       "      <th>2020</th>\n",
       "      <td>1677.0</td>\n",
       "      <td>2020-12-04</td>\n",
       "      <td>13</td>\n",
       "      <td>33</td>\n",
       "      <td>Ataulfo</td>\n",
       "    </tr>\n",
       "    <tr>\n",
       "      <th>2023</th>\n",
       "      <td>1450.0</td>\n",
       "      <td>2023-12-03</td>\n",
       "      <td>13</td>\n",
       "      <td>33</td>\n",
       "      <td>Ataulfo</td>\n",
       "    </tr>\n",
       "    <tr>\n",
       "      <th>2021</th>\n",
       "      <td>2907.0</td>\n",
       "      <td>2021-11-28</td>\n",
       "      <td>13</td>\n",
       "      <td>33</td>\n",
       "      <td>Ataulfo</td>\n",
       "    </tr>\n",
       "    <tr>\n",
       "      <th>2022</th>\n",
       "      <td>1350.0</td>\n",
       "      <td>2022-12-03</td>\n",
       "      <td>13</td>\n",
       "      <td>33</td>\n",
       "      <td>Ataulfo</td>\n",
       "    </tr>\n",
       "  </tbody>\n",
       "</table>\n",
       "</div>"
      ],
      "text/plain": [
       "         Cantidad       Fecha  Id_Area  Id_Lote      Variedad\n",
       "30 2021   13805.0  2021-12-04       11       30  Tommy Atkins\n",
       "   2020   11497.0  2020-12-03       11       30  Tommy Atkins\n",
       "   2022    9019.0  2022-11-30       11       30  Tommy Atkins\n",
       "   2023    8848.0  2023-12-01       11       30  Tommy Atkins\n",
       "32 2022   11420.0  2022-12-21       12       32  Tommy Atkins\n",
       "   2021   14792.0  2021-11-29       12       32  Tommy Atkins\n",
       "   2020   11464.0  2020-12-02       12       32  Tommy Atkins\n",
       "   2023    9072.0  2023-11-30       12       32  Tommy Atkins\n",
       "33 2020    1677.0  2020-12-04       13       33       Ataulfo\n",
       "   2023    1450.0  2023-12-03       13       33       Ataulfo\n",
       "   2021    2907.0  2021-11-28       13       33       Ataulfo\n",
       "   2022    1350.0  2022-12-03       13       33       Ataulfo"
      ]
     },
     "execution_count": 3,
     "metadata": {},
     "output_type": "execute_result"
    }
   ],
   "source": [
    "producciones =  pd.read_pickle(\"etlData/producciones.pickle\")\n",
    "producciones"
   ]
  },
  {
   "cell_type": "markdown",
   "id": "ff967693",
   "metadata": {},
   "source": [
    "# Prep before training"
   ]
  },
  {
   "cell_type": "code",
   "execution_count": 4,
   "id": "47d3a146",
   "metadata": {},
   "outputs": [
    {
     "data": {
      "text/plain": [
       "{'Tommy Atkins': array(['Wind_Speed_Mean', 'Relat_Hum_Mean', 'Wind_Speed_Min',\n",
       "        'Relat_Hum_Max'], dtype=object),\n",
       " 'Ataulfo': array(['Wind_Speed_Mean', 'Relat_Hum_Mean'], dtype=object)}"
      ]
     },
     "execution_count": 4,
     "metadata": {},
     "output_type": "execute_result"
    }
   ],
   "source": [
    "import pickle as pkl\n",
    "\n",
    "with open(\"./variablesSeleccionadas.pkl\", \"rb+\") as f:\n",
    "    variables_seleccionadas = pkl.loads(f.read())\n",
    "variables_seleccionadas"
   ]
  },
  {
   "cell_type": "code",
   "execution_count": 5,
   "id": "f24c2544",
   "metadata": {},
   "outputs": [],
   "source": [
    "from datetime import datetime"
   ]
  },
  {
   "cell_type": "code",
   "execution_count": 6,
   "id": "59eb4657",
   "metadata": {
    "scrolled": true
   },
   "outputs": [
    {
     "data": {
      "text/html": [
       "<div>\n",
       "<style scoped>\n",
       "    .dataframe tbody tr th:only-of-type {\n",
       "        vertical-align: middle;\n",
       "    }\n",
       "\n",
       "    .dataframe tbody tr th {\n",
       "        vertical-align: top;\n",
       "    }\n",
       "\n",
       "    .dataframe thead th {\n",
       "        text-align: right;\n",
       "    }\n",
       "</style>\n",
       "<table border=\"1\" class=\"dataframe\">\n",
       "  <thead>\n",
       "    <tr style=\"text-align: right;\">\n",
       "      <th></th>\n",
       "      <th>Wind_Speed_Mean</th>\n",
       "      <th>Relat_Hum_Mean</th>\n",
       "      <th>Wind_Speed_Min</th>\n",
       "      <th>Relat_Hum_Max</th>\n",
       "    </tr>\n",
       "    <tr>\n",
       "      <th>Date</th>\n",
       "      <th></th>\n",
       "      <th></th>\n",
       "      <th></th>\n",
       "      <th></th>\n",
       "    </tr>\n",
       "  </thead>\n",
       "  <tbody>\n",
       "    <tr>\n",
       "      <th>2020-12-31 00:00:00-05:00</th>\n",
       "      <td>1.311385</td>\n",
       "      <td>80.083102</td>\n",
       "      <td>0.000000</td>\n",
       "      <td>95.285319</td>\n",
       "    </tr>\n",
       "    <tr>\n",
       "      <th>2021-12-31 00:00:00-05:00</th>\n",
       "      <td>0.634953</td>\n",
       "      <td>82.473354</td>\n",
       "      <td>0.000000</td>\n",
       "      <td>96.000000</td>\n",
       "    </tr>\n",
       "    <tr>\n",
       "      <th>2022-12-31 00:00:00-05:00</th>\n",
       "      <td>1.230943</td>\n",
       "      <td>67.148571</td>\n",
       "      <td>0.469114</td>\n",
       "      <td>92.354286</td>\n",
       "    </tr>\n",
       "    <tr>\n",
       "      <th>2023-12-31 00:00:00-05:00</th>\n",
       "      <td>1.555556</td>\n",
       "      <td>54.066066</td>\n",
       "      <td>1.096096</td>\n",
       "      <td>56.378378</td>\n",
       "    </tr>\n",
       "  </tbody>\n",
       "</table>\n",
       "</div>"
      ],
      "text/plain": [
       "                           Wind_Speed_Mean  Relat_Hum_Mean  Wind_Speed_Min  \\\n",
       "Date                                                                         \n",
       "2020-12-31 00:00:00-05:00         1.311385       80.083102        0.000000   \n",
       "2021-12-31 00:00:00-05:00         0.634953       82.473354        0.000000   \n",
       "2022-12-31 00:00:00-05:00         1.230943       67.148571        0.469114   \n",
       "2023-12-31 00:00:00-05:00         1.555556       54.066066        1.096096   \n",
       "\n",
       "                           Relat_Hum_Max  \n",
       "Date                                      \n",
       "2020-12-31 00:00:00-05:00      95.285319  \n",
       "2021-12-31 00:00:00-05:00      96.000000  \n",
       "2022-12-31 00:00:00-05:00      92.354286  \n",
       "2023-12-31 00:00:00-05:00      56.378378  "
      ]
     },
     "execution_count": 6,
     "metadata": {},
     "output_type": "execute_result"
    }
   ],
   "source": [
    "#x = datos_clima.resample(\"Y\").mean().drop([\"Temp_Air_Mean\"], axis=1)\n",
    "x_tommy = datos_clima.resample(\"Y\").mean()[variables_seleccionadas[\"Tommy Atkins\"]]\n",
    "x_tommy = x_tommy.loc[\"2020-01-01\":\"2023-12-31\"]\n",
    "x_tommy"
   ]
  },
  {
   "cell_type": "code",
   "execution_count": 7,
   "id": "a608c7c2",
   "metadata": {},
   "outputs": [
    {
     "data": {
      "text/html": [
       "<div>\n",
       "<style scoped>\n",
       "    .dataframe tbody tr th:only-of-type {\n",
       "        vertical-align: middle;\n",
       "    }\n",
       "\n",
       "    .dataframe tbody tr th {\n",
       "        vertical-align: top;\n",
       "    }\n",
       "\n",
       "    .dataframe thead th {\n",
       "        text-align: right;\n",
       "    }\n",
       "</style>\n",
       "<table border=\"1\" class=\"dataframe\">\n",
       "  <thead>\n",
       "    <tr style=\"text-align: right;\">\n",
       "      <th></th>\n",
       "      <th>Wind_Speed_Mean</th>\n",
       "      <th>Relat_Hum_Mean</th>\n",
       "    </tr>\n",
       "    <tr>\n",
       "      <th>Date</th>\n",
       "      <th></th>\n",
       "      <th></th>\n",
       "    </tr>\n",
       "  </thead>\n",
       "  <tbody>\n",
       "    <tr>\n",
       "      <th>2020-12-31 00:00:00-05:00</th>\n",
       "      <td>1.311385</td>\n",
       "      <td>80.083102</td>\n",
       "    </tr>\n",
       "    <tr>\n",
       "      <th>2021-12-31 00:00:00-05:00</th>\n",
       "      <td>0.634953</td>\n",
       "      <td>82.473354</td>\n",
       "    </tr>\n",
       "    <tr>\n",
       "      <th>2022-12-31 00:00:00-05:00</th>\n",
       "      <td>1.230943</td>\n",
       "      <td>67.148571</td>\n",
       "    </tr>\n",
       "    <tr>\n",
       "      <th>2023-12-31 00:00:00-05:00</th>\n",
       "      <td>1.555556</td>\n",
       "      <td>54.066066</td>\n",
       "    </tr>\n",
       "  </tbody>\n",
       "</table>\n",
       "</div>"
      ],
      "text/plain": [
       "                           Wind_Speed_Mean  Relat_Hum_Mean\n",
       "Date                                                      \n",
       "2020-12-31 00:00:00-05:00         1.311385       80.083102\n",
       "2021-12-31 00:00:00-05:00         0.634953       82.473354\n",
       "2022-12-31 00:00:00-05:00         1.230943       67.148571\n",
       "2023-12-31 00:00:00-05:00         1.555556       54.066066"
      ]
     },
     "execution_count": 7,
     "metadata": {},
     "output_type": "execute_result"
    }
   ],
   "source": [
    "x_ataulfo = datos_clima.resample(\"Y\").mean()[variables_seleccionadas[\"Ataulfo\"]]\n",
    "x_ataulfo = x_ataulfo.loc[\"2020-01-01\":\"2023-12-31\"]\n",
    "x_ataulfo"
   ]
  },
  {
   "cell_type": "code",
   "execution_count": 8,
   "id": "1586bf95",
   "metadata": {},
   "outputs": [
    {
     "data": {
      "text/html": [
       "<div>\n",
       "<style scoped>\n",
       "    .dataframe tbody tr th:only-of-type {\n",
       "        vertical-align: middle;\n",
       "    }\n",
       "\n",
       "    .dataframe tbody tr th {\n",
       "        vertical-align: top;\n",
       "    }\n",
       "\n",
       "    .dataframe thead th {\n",
       "        text-align: right;\n",
       "    }\n",
       "</style>\n",
       "<table border=\"1\" class=\"dataframe\">\n",
       "  <thead>\n",
       "    <tr style=\"text-align: right;\">\n",
       "      <th></th>\n",
       "      <th></th>\n",
       "      <th>Cantidad</th>\n",
       "      <th>Variedad</th>\n",
       "    </tr>\n",
       "  </thead>\n",
       "  <tbody>\n",
       "    <tr>\n",
       "      <th rowspan=\"4\" valign=\"top\">30</th>\n",
       "      <th>2021</th>\n",
       "      <td>13805.0</td>\n",
       "      <td>Tommy Atkins</td>\n",
       "    </tr>\n",
       "    <tr>\n",
       "      <th>2020</th>\n",
       "      <td>11497.0</td>\n",
       "      <td>Tommy Atkins</td>\n",
       "    </tr>\n",
       "    <tr>\n",
       "      <th>2022</th>\n",
       "      <td>9019.0</td>\n",
       "      <td>Tommy Atkins</td>\n",
       "    </tr>\n",
       "    <tr>\n",
       "      <th>2023</th>\n",
       "      <td>8848.0</td>\n",
       "      <td>Tommy Atkins</td>\n",
       "    </tr>\n",
       "    <tr>\n",
       "      <th rowspan=\"4\" valign=\"top\">32</th>\n",
       "      <th>2022</th>\n",
       "      <td>11420.0</td>\n",
       "      <td>Tommy Atkins</td>\n",
       "    </tr>\n",
       "    <tr>\n",
       "      <th>2021</th>\n",
       "      <td>14792.0</td>\n",
       "      <td>Tommy Atkins</td>\n",
       "    </tr>\n",
       "    <tr>\n",
       "      <th>2020</th>\n",
       "      <td>11464.0</td>\n",
       "      <td>Tommy Atkins</td>\n",
       "    </tr>\n",
       "    <tr>\n",
       "      <th>2023</th>\n",
       "      <td>9072.0</td>\n",
       "      <td>Tommy Atkins</td>\n",
       "    </tr>\n",
       "    <tr>\n",
       "      <th rowspan=\"4\" valign=\"top\">33</th>\n",
       "      <th>2020</th>\n",
       "      <td>1677.0</td>\n",
       "      <td>Ataulfo</td>\n",
       "    </tr>\n",
       "    <tr>\n",
       "      <th>2023</th>\n",
       "      <td>1450.0</td>\n",
       "      <td>Ataulfo</td>\n",
       "    </tr>\n",
       "    <tr>\n",
       "      <th>2021</th>\n",
       "      <td>2907.0</td>\n",
       "      <td>Ataulfo</td>\n",
       "    </tr>\n",
       "    <tr>\n",
       "      <th>2022</th>\n",
       "      <td>1350.0</td>\n",
       "      <td>Ataulfo</td>\n",
       "    </tr>\n",
       "  </tbody>\n",
       "</table>\n",
       "</div>"
      ],
      "text/plain": [
       "         Cantidad      Variedad\n",
       "30 2021   13805.0  Tommy Atkins\n",
       "   2020   11497.0  Tommy Atkins\n",
       "   2022    9019.0  Tommy Atkins\n",
       "   2023    8848.0  Tommy Atkins\n",
       "32 2022   11420.0  Tommy Atkins\n",
       "   2021   14792.0  Tommy Atkins\n",
       "   2020   11464.0  Tommy Atkins\n",
       "   2023    9072.0  Tommy Atkins\n",
       "33 2020    1677.0       Ataulfo\n",
       "   2023    1450.0       Ataulfo\n",
       "   2021    2907.0       Ataulfo\n",
       "   2022    1350.0       Ataulfo"
      ]
     },
     "execution_count": 8,
     "metadata": {},
     "output_type": "execute_result"
    }
   ],
   "source": [
    "y = producciones[[\"Cantidad\", \"Variedad\"]]\n",
    "y"
   ]
  },
  {
   "cell_type": "code",
   "execution_count": 9,
   "id": "e3f99fbc",
   "metadata": {},
   "outputs": [
    {
     "data": {
      "text/plain": [
       "Fecha\n",
       "2020    11480.5\n",
       "2021    14298.5\n",
       "2022    10219.5\n",
       "2023     8960.0\n",
       "Name: Cantidad, dtype: float64"
      ]
     },
     "execution_count": 9,
     "metadata": {},
     "output_type": "execute_result"
    }
   ],
   "source": [
    "y_tommy = y[y[\"Variedad\"] == \"Tommy Atkins\"][\"Cantidad\"]\\\n",
    "    .groupby(producciones[\"Fecha\"].apply(lambda f: f[:4])).mean()\n",
    "y_tommy"
   ]
  },
  {
   "cell_type": "code",
   "execution_count": 10,
   "id": "2850468e",
   "metadata": {},
   "outputs": [
    {
     "data": {
      "text/plain": [
       "33  2020    1677.0\n",
       "    2023    1450.0\n",
       "    2021    2907.0\n",
       "    2022    1350.0\n",
       "Name: Cantidad, dtype: float64"
      ]
     },
     "execution_count": 10,
     "metadata": {},
     "output_type": "execute_result"
    }
   ],
   "source": [
    "y_ataulfo = y[y[\"Variedad\"] == \"Ataulfo\"][\"Cantidad\"]#.values\n",
    "y_ataulfo"
   ]
  },
  {
   "cell_type": "markdown",
   "id": "d69c4684",
   "metadata": {},
   "source": [
    "# Model Training"
   ]
  },
  {
   "cell_type": "markdown",
   "id": "9c00eef8",
   "metadata": {},
   "source": [
    "## Random Forest"
   ]
  },
  {
   "cell_type": "code",
   "execution_count": 11,
   "id": "e7d1ce1d",
   "metadata": {},
   "outputs": [],
   "source": [
    "from sklearn.ensemble import RandomForestRegressor"
   ]
  },
  {
   "cell_type": "code",
   "execution_count": 12,
   "id": "f8bed43c",
   "metadata": {
    "scrolled": true
   },
   "outputs": [
    {
     "data": {
      "text/html": [
       "<style>#sk-container-id-1 {color: black;background-color: white;}#sk-container-id-1 pre{padding: 0;}#sk-container-id-1 div.sk-toggleable {background-color: white;}#sk-container-id-1 label.sk-toggleable__label {cursor: pointer;display: block;width: 100%;margin-bottom: 0;padding: 0.3em;box-sizing: border-box;text-align: center;}#sk-container-id-1 label.sk-toggleable__label-arrow:before {content: \"▸\";float: left;margin-right: 0.25em;color: #696969;}#sk-container-id-1 label.sk-toggleable__label-arrow:hover:before {color: black;}#sk-container-id-1 div.sk-estimator:hover label.sk-toggleable__label-arrow:before {color: black;}#sk-container-id-1 div.sk-toggleable__content {max-height: 0;max-width: 0;overflow: hidden;text-align: left;background-color: #f0f8ff;}#sk-container-id-1 div.sk-toggleable__content pre {margin: 0.2em;color: black;border-radius: 0.25em;background-color: #f0f8ff;}#sk-container-id-1 input.sk-toggleable__control:checked~div.sk-toggleable__content {max-height: 200px;max-width: 100%;overflow: auto;}#sk-container-id-1 input.sk-toggleable__control:checked~label.sk-toggleable__label-arrow:before {content: \"▾\";}#sk-container-id-1 div.sk-estimator input.sk-toggleable__control:checked~label.sk-toggleable__label {background-color: #d4ebff;}#sk-container-id-1 div.sk-label input.sk-toggleable__control:checked~label.sk-toggleable__label {background-color: #d4ebff;}#sk-container-id-1 input.sk-hidden--visually {border: 0;clip: rect(1px 1px 1px 1px);clip: rect(1px, 1px, 1px, 1px);height: 1px;margin: -1px;overflow: hidden;padding: 0;position: absolute;width: 1px;}#sk-container-id-1 div.sk-estimator {font-family: monospace;background-color: #f0f8ff;border: 1px dotted black;border-radius: 0.25em;box-sizing: border-box;margin-bottom: 0.5em;}#sk-container-id-1 div.sk-estimator:hover {background-color: #d4ebff;}#sk-container-id-1 div.sk-parallel-item::after {content: \"\";width: 100%;border-bottom: 1px solid gray;flex-grow: 1;}#sk-container-id-1 div.sk-label:hover label.sk-toggleable__label {background-color: #d4ebff;}#sk-container-id-1 div.sk-serial::before {content: \"\";position: absolute;border-left: 1px solid gray;box-sizing: border-box;top: 0;bottom: 0;left: 50%;z-index: 0;}#sk-container-id-1 div.sk-serial {display: flex;flex-direction: column;align-items: center;background-color: white;padding-right: 0.2em;padding-left: 0.2em;position: relative;}#sk-container-id-1 div.sk-item {position: relative;z-index: 1;}#sk-container-id-1 div.sk-parallel {display: flex;align-items: stretch;justify-content: center;background-color: white;position: relative;}#sk-container-id-1 div.sk-item::before, #sk-container-id-1 div.sk-parallel-item::before {content: \"\";position: absolute;border-left: 1px solid gray;box-sizing: border-box;top: 0;bottom: 0;left: 50%;z-index: -1;}#sk-container-id-1 div.sk-parallel-item {display: flex;flex-direction: column;z-index: 1;position: relative;background-color: white;}#sk-container-id-1 div.sk-parallel-item:first-child::after {align-self: flex-end;width: 50%;}#sk-container-id-1 div.sk-parallel-item:last-child::after {align-self: flex-start;width: 50%;}#sk-container-id-1 div.sk-parallel-item:only-child::after {width: 0;}#sk-container-id-1 div.sk-dashed-wrapped {border: 1px dashed gray;margin: 0 0.4em 0.5em 0.4em;box-sizing: border-box;padding-bottom: 0.4em;background-color: white;}#sk-container-id-1 div.sk-label label {font-family: monospace;font-weight: bold;display: inline-block;line-height: 1.2em;}#sk-container-id-1 div.sk-label-container {text-align: center;}#sk-container-id-1 div.sk-container {/* jupyter's `normalize.less` sets `[hidden] { display: none; }` but bootstrap.min.css set `[hidden] { display: none !important; }` so we also need the `!important` here to be able to override the default hidden behavior on the sphinx rendered scikit-learn.org. See: https://github.com/scikit-learn/scikit-learn/issues/21755 */display: inline-block !important;position: relative;}#sk-container-id-1 div.sk-text-repr-fallback {display: none;}</style><div id=\"sk-container-id-1\" class=\"sk-top-container\"><div class=\"sk-text-repr-fallback\"><pre>RandomForestRegressor()</pre><b>In a Jupyter environment, please rerun this cell to show the HTML representation or trust the notebook. <br />On GitHub, the HTML representation is unable to render, please try loading this page with nbviewer.org.</b></div><div class=\"sk-container\" hidden><div class=\"sk-item\"><div class=\"sk-estimator sk-toggleable\"><input class=\"sk-toggleable__control sk-hidden--visually\" id=\"sk-estimator-id-1\" type=\"checkbox\" checked><label for=\"sk-estimator-id-1\" class=\"sk-toggleable__label sk-toggleable__label-arrow\">RandomForestRegressor</label><div class=\"sk-toggleable__content\"><pre>RandomForestRegressor()</pre></div></div></div></div></div>"
      ],
      "text/plain": [
       "RandomForestRegressor()"
      ]
     },
     "execution_count": 12,
     "metadata": {},
     "output_type": "execute_result"
    }
   ],
   "source": [
    "# Create Decision Tree classifer object\n",
    "forest_regressor_tommy = RandomForestRegressor().fit(x_tommy, y_tommy)\n",
    "forest_regressor_tommy"
   ]
  },
  {
   "cell_type": "code",
   "execution_count": 13,
   "id": "546391d0",
   "metadata": {
    "scrolled": false
   },
   "outputs": [
    {
     "data": {
      "text/html": [
       "<style>#sk-container-id-2 {color: black;background-color: white;}#sk-container-id-2 pre{padding: 0;}#sk-container-id-2 div.sk-toggleable {background-color: white;}#sk-container-id-2 label.sk-toggleable__label {cursor: pointer;display: block;width: 100%;margin-bottom: 0;padding: 0.3em;box-sizing: border-box;text-align: center;}#sk-container-id-2 label.sk-toggleable__label-arrow:before {content: \"▸\";float: left;margin-right: 0.25em;color: #696969;}#sk-container-id-2 label.sk-toggleable__label-arrow:hover:before {color: black;}#sk-container-id-2 div.sk-estimator:hover label.sk-toggleable__label-arrow:before {color: black;}#sk-container-id-2 div.sk-toggleable__content {max-height: 0;max-width: 0;overflow: hidden;text-align: left;background-color: #f0f8ff;}#sk-container-id-2 div.sk-toggleable__content pre {margin: 0.2em;color: black;border-radius: 0.25em;background-color: #f0f8ff;}#sk-container-id-2 input.sk-toggleable__control:checked~div.sk-toggleable__content {max-height: 200px;max-width: 100%;overflow: auto;}#sk-container-id-2 input.sk-toggleable__control:checked~label.sk-toggleable__label-arrow:before {content: \"▾\";}#sk-container-id-2 div.sk-estimator input.sk-toggleable__control:checked~label.sk-toggleable__label {background-color: #d4ebff;}#sk-container-id-2 div.sk-label input.sk-toggleable__control:checked~label.sk-toggleable__label {background-color: #d4ebff;}#sk-container-id-2 input.sk-hidden--visually {border: 0;clip: rect(1px 1px 1px 1px);clip: rect(1px, 1px, 1px, 1px);height: 1px;margin: -1px;overflow: hidden;padding: 0;position: absolute;width: 1px;}#sk-container-id-2 div.sk-estimator {font-family: monospace;background-color: #f0f8ff;border: 1px dotted black;border-radius: 0.25em;box-sizing: border-box;margin-bottom: 0.5em;}#sk-container-id-2 div.sk-estimator:hover {background-color: #d4ebff;}#sk-container-id-2 div.sk-parallel-item::after {content: \"\";width: 100%;border-bottom: 1px solid gray;flex-grow: 1;}#sk-container-id-2 div.sk-label:hover label.sk-toggleable__label {background-color: #d4ebff;}#sk-container-id-2 div.sk-serial::before {content: \"\";position: absolute;border-left: 1px solid gray;box-sizing: border-box;top: 0;bottom: 0;left: 50%;z-index: 0;}#sk-container-id-2 div.sk-serial {display: flex;flex-direction: column;align-items: center;background-color: white;padding-right: 0.2em;padding-left: 0.2em;position: relative;}#sk-container-id-2 div.sk-item {position: relative;z-index: 1;}#sk-container-id-2 div.sk-parallel {display: flex;align-items: stretch;justify-content: center;background-color: white;position: relative;}#sk-container-id-2 div.sk-item::before, #sk-container-id-2 div.sk-parallel-item::before {content: \"\";position: absolute;border-left: 1px solid gray;box-sizing: border-box;top: 0;bottom: 0;left: 50%;z-index: -1;}#sk-container-id-2 div.sk-parallel-item {display: flex;flex-direction: column;z-index: 1;position: relative;background-color: white;}#sk-container-id-2 div.sk-parallel-item:first-child::after {align-self: flex-end;width: 50%;}#sk-container-id-2 div.sk-parallel-item:last-child::after {align-self: flex-start;width: 50%;}#sk-container-id-2 div.sk-parallel-item:only-child::after {width: 0;}#sk-container-id-2 div.sk-dashed-wrapped {border: 1px dashed gray;margin: 0 0.4em 0.5em 0.4em;box-sizing: border-box;padding-bottom: 0.4em;background-color: white;}#sk-container-id-2 div.sk-label label {font-family: monospace;font-weight: bold;display: inline-block;line-height: 1.2em;}#sk-container-id-2 div.sk-label-container {text-align: center;}#sk-container-id-2 div.sk-container {/* jupyter's `normalize.less` sets `[hidden] { display: none; }` but bootstrap.min.css set `[hidden] { display: none !important; }` so we also need the `!important` here to be able to override the default hidden behavior on the sphinx rendered scikit-learn.org. See: https://github.com/scikit-learn/scikit-learn/issues/21755 */display: inline-block !important;position: relative;}#sk-container-id-2 div.sk-text-repr-fallback {display: none;}</style><div id=\"sk-container-id-2\" class=\"sk-top-container\"><div class=\"sk-text-repr-fallback\"><pre>RandomForestRegressor()</pre><b>In a Jupyter environment, please rerun this cell to show the HTML representation or trust the notebook. <br />On GitHub, the HTML representation is unable to render, please try loading this page with nbviewer.org.</b></div><div class=\"sk-container\" hidden><div class=\"sk-item\"><div class=\"sk-estimator sk-toggleable\"><input class=\"sk-toggleable__control sk-hidden--visually\" id=\"sk-estimator-id-2\" type=\"checkbox\" checked><label for=\"sk-estimator-id-2\" class=\"sk-toggleable__label sk-toggleable__label-arrow\">RandomForestRegressor</label><div class=\"sk-toggleable__content\"><pre>RandomForestRegressor()</pre></div></div></div></div></div>"
      ],
      "text/plain": [
       "RandomForestRegressor()"
      ]
     },
     "execution_count": 13,
     "metadata": {},
     "output_type": "execute_result"
    }
   ],
   "source": [
    "# Create Decision Tree classifer object\n",
    "forest_regressor_ataulfo = RandomForestRegressor().fit(x_ataulfo, y_ataulfo)\n",
    "forest_regressor_ataulfo"
   ]
  },
  {
   "cell_type": "code",
   "execution_count": 14,
   "id": "9a5e9c22",
   "metadata": {},
   "outputs": [],
   "source": [
    "from sklearn.ensemble import RandomForestClassifier"
   ]
  },
  {
   "cell_type": "code",
   "execution_count": 15,
   "id": "022f928a",
   "metadata": {
    "scrolled": true
   },
   "outputs": [
    {
     "data": {
      "text/html": [
       "<style>#sk-container-id-3 {color: black;background-color: white;}#sk-container-id-3 pre{padding: 0;}#sk-container-id-3 div.sk-toggleable {background-color: white;}#sk-container-id-3 label.sk-toggleable__label {cursor: pointer;display: block;width: 100%;margin-bottom: 0;padding: 0.3em;box-sizing: border-box;text-align: center;}#sk-container-id-3 label.sk-toggleable__label-arrow:before {content: \"▸\";float: left;margin-right: 0.25em;color: #696969;}#sk-container-id-3 label.sk-toggleable__label-arrow:hover:before {color: black;}#sk-container-id-3 div.sk-estimator:hover label.sk-toggleable__label-arrow:before {color: black;}#sk-container-id-3 div.sk-toggleable__content {max-height: 0;max-width: 0;overflow: hidden;text-align: left;background-color: #f0f8ff;}#sk-container-id-3 div.sk-toggleable__content pre {margin: 0.2em;color: black;border-radius: 0.25em;background-color: #f0f8ff;}#sk-container-id-3 input.sk-toggleable__control:checked~div.sk-toggleable__content {max-height: 200px;max-width: 100%;overflow: auto;}#sk-container-id-3 input.sk-toggleable__control:checked~label.sk-toggleable__label-arrow:before {content: \"▾\";}#sk-container-id-3 div.sk-estimator input.sk-toggleable__control:checked~label.sk-toggleable__label {background-color: #d4ebff;}#sk-container-id-3 div.sk-label input.sk-toggleable__control:checked~label.sk-toggleable__label {background-color: #d4ebff;}#sk-container-id-3 input.sk-hidden--visually {border: 0;clip: rect(1px 1px 1px 1px);clip: rect(1px, 1px, 1px, 1px);height: 1px;margin: -1px;overflow: hidden;padding: 0;position: absolute;width: 1px;}#sk-container-id-3 div.sk-estimator {font-family: monospace;background-color: #f0f8ff;border: 1px dotted black;border-radius: 0.25em;box-sizing: border-box;margin-bottom: 0.5em;}#sk-container-id-3 div.sk-estimator:hover {background-color: #d4ebff;}#sk-container-id-3 div.sk-parallel-item::after {content: \"\";width: 100%;border-bottom: 1px solid gray;flex-grow: 1;}#sk-container-id-3 div.sk-label:hover label.sk-toggleable__label {background-color: #d4ebff;}#sk-container-id-3 div.sk-serial::before {content: \"\";position: absolute;border-left: 1px solid gray;box-sizing: border-box;top: 0;bottom: 0;left: 50%;z-index: 0;}#sk-container-id-3 div.sk-serial {display: flex;flex-direction: column;align-items: center;background-color: white;padding-right: 0.2em;padding-left: 0.2em;position: relative;}#sk-container-id-3 div.sk-item {position: relative;z-index: 1;}#sk-container-id-3 div.sk-parallel {display: flex;align-items: stretch;justify-content: center;background-color: white;position: relative;}#sk-container-id-3 div.sk-item::before, #sk-container-id-3 div.sk-parallel-item::before {content: \"\";position: absolute;border-left: 1px solid gray;box-sizing: border-box;top: 0;bottom: 0;left: 50%;z-index: -1;}#sk-container-id-3 div.sk-parallel-item {display: flex;flex-direction: column;z-index: 1;position: relative;background-color: white;}#sk-container-id-3 div.sk-parallel-item:first-child::after {align-self: flex-end;width: 50%;}#sk-container-id-3 div.sk-parallel-item:last-child::after {align-self: flex-start;width: 50%;}#sk-container-id-3 div.sk-parallel-item:only-child::after {width: 0;}#sk-container-id-3 div.sk-dashed-wrapped {border: 1px dashed gray;margin: 0 0.4em 0.5em 0.4em;box-sizing: border-box;padding-bottom: 0.4em;background-color: white;}#sk-container-id-3 div.sk-label label {font-family: monospace;font-weight: bold;display: inline-block;line-height: 1.2em;}#sk-container-id-3 div.sk-label-container {text-align: center;}#sk-container-id-3 div.sk-container {/* jupyter's `normalize.less` sets `[hidden] { display: none; }` but bootstrap.min.css set `[hidden] { display: none !important; }` so we also need the `!important` here to be able to override the default hidden behavior on the sphinx rendered scikit-learn.org. See: https://github.com/scikit-learn/scikit-learn/issues/21755 */display: inline-block !important;position: relative;}#sk-container-id-3 div.sk-text-repr-fallback {display: none;}</style><div id=\"sk-container-id-3\" class=\"sk-top-container\"><div class=\"sk-text-repr-fallback\"><pre>RandomForestClassifier()</pre><b>In a Jupyter environment, please rerun this cell to show the HTML representation or trust the notebook. <br />On GitHub, the HTML representation is unable to render, please try loading this page with nbviewer.org.</b></div><div class=\"sk-container\" hidden><div class=\"sk-item\"><div class=\"sk-estimator sk-toggleable\"><input class=\"sk-toggleable__control sk-hidden--visually\" id=\"sk-estimator-id-3\" type=\"checkbox\" checked><label for=\"sk-estimator-id-3\" class=\"sk-toggleable__label sk-toggleable__label-arrow\">RandomForestClassifier</label><div class=\"sk-toggleable__content\"><pre>RandomForestClassifier()</pre></div></div></div></div></div>"
      ],
      "text/plain": [
       "RandomForestClassifier()"
      ]
     },
     "execution_count": 15,
     "metadata": {},
     "output_type": "execute_result"
    }
   ],
   "source": [
    "# Create Decision Tree classifer object\n",
    "forest_classifier_tommy = RandomForestClassifier().fit(x_tommy, y_tommy.astype(\"int\"))\n",
    "forest_classifier_tommy"
   ]
  },
  {
   "cell_type": "code",
   "execution_count": 16,
   "id": "f6f00bb9",
   "metadata": {
    "scrolled": false
   },
   "outputs": [
    {
     "data": {
      "text/html": [
       "<style>#sk-container-id-4 {color: black;background-color: white;}#sk-container-id-4 pre{padding: 0;}#sk-container-id-4 div.sk-toggleable {background-color: white;}#sk-container-id-4 label.sk-toggleable__label {cursor: pointer;display: block;width: 100%;margin-bottom: 0;padding: 0.3em;box-sizing: border-box;text-align: center;}#sk-container-id-4 label.sk-toggleable__label-arrow:before {content: \"▸\";float: left;margin-right: 0.25em;color: #696969;}#sk-container-id-4 label.sk-toggleable__label-arrow:hover:before {color: black;}#sk-container-id-4 div.sk-estimator:hover label.sk-toggleable__label-arrow:before {color: black;}#sk-container-id-4 div.sk-toggleable__content {max-height: 0;max-width: 0;overflow: hidden;text-align: left;background-color: #f0f8ff;}#sk-container-id-4 div.sk-toggleable__content pre {margin: 0.2em;color: black;border-radius: 0.25em;background-color: #f0f8ff;}#sk-container-id-4 input.sk-toggleable__control:checked~div.sk-toggleable__content {max-height: 200px;max-width: 100%;overflow: auto;}#sk-container-id-4 input.sk-toggleable__control:checked~label.sk-toggleable__label-arrow:before {content: \"▾\";}#sk-container-id-4 div.sk-estimator input.sk-toggleable__control:checked~label.sk-toggleable__label {background-color: #d4ebff;}#sk-container-id-4 div.sk-label input.sk-toggleable__control:checked~label.sk-toggleable__label {background-color: #d4ebff;}#sk-container-id-4 input.sk-hidden--visually {border: 0;clip: rect(1px 1px 1px 1px);clip: rect(1px, 1px, 1px, 1px);height: 1px;margin: -1px;overflow: hidden;padding: 0;position: absolute;width: 1px;}#sk-container-id-4 div.sk-estimator {font-family: monospace;background-color: #f0f8ff;border: 1px dotted black;border-radius: 0.25em;box-sizing: border-box;margin-bottom: 0.5em;}#sk-container-id-4 div.sk-estimator:hover {background-color: #d4ebff;}#sk-container-id-4 div.sk-parallel-item::after {content: \"\";width: 100%;border-bottom: 1px solid gray;flex-grow: 1;}#sk-container-id-4 div.sk-label:hover label.sk-toggleable__label {background-color: #d4ebff;}#sk-container-id-4 div.sk-serial::before {content: \"\";position: absolute;border-left: 1px solid gray;box-sizing: border-box;top: 0;bottom: 0;left: 50%;z-index: 0;}#sk-container-id-4 div.sk-serial {display: flex;flex-direction: column;align-items: center;background-color: white;padding-right: 0.2em;padding-left: 0.2em;position: relative;}#sk-container-id-4 div.sk-item {position: relative;z-index: 1;}#sk-container-id-4 div.sk-parallel {display: flex;align-items: stretch;justify-content: center;background-color: white;position: relative;}#sk-container-id-4 div.sk-item::before, #sk-container-id-4 div.sk-parallel-item::before {content: \"\";position: absolute;border-left: 1px solid gray;box-sizing: border-box;top: 0;bottom: 0;left: 50%;z-index: -1;}#sk-container-id-4 div.sk-parallel-item {display: flex;flex-direction: column;z-index: 1;position: relative;background-color: white;}#sk-container-id-4 div.sk-parallel-item:first-child::after {align-self: flex-end;width: 50%;}#sk-container-id-4 div.sk-parallel-item:last-child::after {align-self: flex-start;width: 50%;}#sk-container-id-4 div.sk-parallel-item:only-child::after {width: 0;}#sk-container-id-4 div.sk-dashed-wrapped {border: 1px dashed gray;margin: 0 0.4em 0.5em 0.4em;box-sizing: border-box;padding-bottom: 0.4em;background-color: white;}#sk-container-id-4 div.sk-label label {font-family: monospace;font-weight: bold;display: inline-block;line-height: 1.2em;}#sk-container-id-4 div.sk-label-container {text-align: center;}#sk-container-id-4 div.sk-container {/* jupyter's `normalize.less` sets `[hidden] { display: none; }` but bootstrap.min.css set `[hidden] { display: none !important; }` so we also need the `!important` here to be able to override the default hidden behavior on the sphinx rendered scikit-learn.org. See: https://github.com/scikit-learn/scikit-learn/issues/21755 */display: inline-block !important;position: relative;}#sk-container-id-4 div.sk-text-repr-fallback {display: none;}</style><div id=\"sk-container-id-4\" class=\"sk-top-container\"><div class=\"sk-text-repr-fallback\"><pre>RandomForestClassifier()</pre><b>In a Jupyter environment, please rerun this cell to show the HTML representation or trust the notebook. <br />On GitHub, the HTML representation is unable to render, please try loading this page with nbviewer.org.</b></div><div class=\"sk-container\" hidden><div class=\"sk-item\"><div class=\"sk-estimator sk-toggleable\"><input class=\"sk-toggleable__control sk-hidden--visually\" id=\"sk-estimator-id-4\" type=\"checkbox\" checked><label for=\"sk-estimator-id-4\" class=\"sk-toggleable__label sk-toggleable__label-arrow\">RandomForestClassifier</label><div class=\"sk-toggleable__content\"><pre>RandomForestClassifier()</pre></div></div></div></div></div>"
      ],
      "text/plain": [
       "RandomForestClassifier()"
      ]
     },
     "execution_count": 16,
     "metadata": {},
     "output_type": "execute_result"
    }
   ],
   "source": [
    "# Create Decision Tree classifer object\n",
    "forest_classifier_ataulfo = RandomForestClassifier().fit(x_ataulfo, y_ataulfo.astype(\"int\"))\n",
    "forest_classifier_ataulfo"
   ]
  },
  {
   "cell_type": "code",
   "execution_count": 17,
   "id": "80146284",
   "metadata": {},
   "outputs": [],
   "source": [
    "from sklearn.model_selection import cross_val_score, LeaveOneOut\n",
    "\n",
    "def compute_metrics(model, x, y, metric):\n",
    "    return cross_val_score(model, x, y, cv=LeaveOneOut(), scoring=metric)"
   ]
  },
  {
   "cell_type": "code",
   "execution_count": 18,
   "id": "df92072a",
   "metadata": {},
   "outputs": [
    {
     "data": {
      "text/html": [
       "<div>\n",
       "<style scoped>\n",
       "    .dataframe tbody tr th:only-of-type {\n",
       "        vertical-align: middle;\n",
       "    }\n",
       "\n",
       "    .dataframe tbody tr th {\n",
       "        vertical-align: top;\n",
       "    }\n",
       "\n",
       "    .dataframe thead th {\n",
       "        text-align: right;\n",
       "    }\n",
       "</style>\n",
       "<table border=\"1\" class=\"dataframe\">\n",
       "  <thead>\n",
       "    <tr style=\"text-align: right;\">\n",
       "      <th></th>\n",
       "      <th>variedad</th>\n",
       "      <th>RMSE</th>\n",
       "      <th>MAE</th>\n",
       "      <th>MAPE</th>\n",
       "    </tr>\n",
       "  </thead>\n",
       "  <tbody>\n",
       "    <tr>\n",
       "      <th>0</th>\n",
       "      <td>Tommy Atkins</td>\n",
       "      <td>4.171577e+06</td>\n",
       "      <td>1729.6125</td>\n",
       "      <td>0.153692</td>\n",
       "    </tr>\n",
       "    <tr>\n",
       "      <th>1</th>\n",
       "      <td>Ataulfo</td>\n",
       "      <td>1.005855e+06</td>\n",
       "      <td>906.5500</td>\n",
       "      <td>0.537669</td>\n",
       "    </tr>\n",
       "  </tbody>\n",
       "</table>\n",
       "</div>"
      ],
      "text/plain": [
       "       variedad          RMSE        MAE      MAPE\n",
       "0  Tommy Atkins  4.171577e+06  1729.6125  0.153692\n",
       "1       Ataulfo  1.005855e+06   906.5500  0.537669"
      ]
     },
     "execution_count": 18,
     "metadata": {},
     "output_type": "execute_result"
    }
   ],
   "source": [
    "vars_tommy = [forest_regressor_tommy, x_tommy, y_tommy]\n",
    "vars_ataulfo = [forest_regressor_ataulfo, x_ataulfo, y_ataulfo]\n",
    "\n",
    "metrics = pd.DataFrame(\n",
    "    [\n",
    "        {\n",
    "            \"variedad\": \"Tommy Atkins\",\n",
    "            \"RMSE\": np.mean(-compute_metrics(*vars_tommy, \"neg_mean_squared_error\")),\n",
    "            \"MAE\": np.mean(-compute_metrics(*vars_tommy, \"neg_mean_absolute_error\")),\n",
    "            \"MAPE\": np.mean(-compute_metrics(*vars_tommy, \"neg_mean_absolute_percentage_error\")),\n",
    "        },\n",
    "        {\n",
    "            \"variedad\": \"Ataulfo\",\n",
    "            \"RMSE\": np.mean(-compute_metrics(*vars_ataulfo, \"neg_mean_squared_error\")),\n",
    "            \"MAE\": np.mean(-compute_metrics(*vars_ataulfo, \"neg_mean_absolute_error\")),\n",
    "            \"MAPE\": np.mean(-compute_metrics(*vars_ataulfo, \"neg_mean_absolute_percentage_error\")),\n",
    "        },\n",
    "    ]\n",
    ")\n",
    "metrics"
   ]
  },
  {
   "cell_type": "code",
   "execution_count": 19,
   "id": "f4814f42",
   "metadata": {},
   "outputs": [
    {
     "data": {
      "text/html": [
       "<div>\n",
       "<style scoped>\n",
       "    .dataframe tbody tr th:only-of-type {\n",
       "        vertical-align: middle;\n",
       "    }\n",
       "\n",
       "    .dataframe tbody tr th {\n",
       "        vertical-align: top;\n",
       "    }\n",
       "\n",
       "    .dataframe thead th {\n",
       "        text-align: right;\n",
       "    }\n",
       "</style>\n",
       "<table border=\"1\" class=\"dataframe\">\n",
       "  <thead>\n",
       "    <tr style=\"text-align: right;\">\n",
       "      <th></th>\n",
       "      <th>variedad</th>\n",
       "      <th>RMSE</th>\n",
       "      <th>MAE</th>\n",
       "      <th>MAPE</th>\n",
       "    </tr>\n",
       "  </thead>\n",
       "  <tbody>\n",
       "    <tr>\n",
       "      <th>0</th>\n",
       "      <td>Tommy Atkins</td>\n",
       "      <td>6938641.75</td>\n",
       "      <td>1649.75</td>\n",
       "      <td>0.176618</td>\n",
       "    </tr>\n",
       "    <tr>\n",
       "      <th>1</th>\n",
       "      <td>Ataulfo</td>\n",
       "      <td>1893224.50</td>\n",
       "      <td>1368.50</td>\n",
       "      <td>0.828683</td>\n",
       "    </tr>\n",
       "  </tbody>\n",
       "</table>\n",
       "</div>"
      ],
      "text/plain": [
       "       variedad        RMSE      MAE      MAPE\n",
       "0  Tommy Atkins  6938641.75  1649.75  0.176618\n",
       "1       Ataulfo  1893224.50  1368.50  0.828683"
      ]
     },
     "execution_count": 19,
     "metadata": {},
     "output_type": "execute_result"
    }
   ],
   "source": [
    "vars_tommy = [forest_classifier_tommy, x_tommy, y_tommy.astype(\"int\")]\n",
    "vars_ataulfo = [forest_classifier_ataulfo, x_ataulfo, y_ataulfo.astype(\"int\")]\n",
    "\n",
    "metrics = pd.DataFrame(\n",
    "    [\n",
    "        {\n",
    "            \"variedad\": \"Tommy Atkins\",\n",
    "            \"RMSE\": np.mean(-compute_metrics(*vars_tommy, \"neg_mean_squared_error\")),\n",
    "            \"MAE\": np.mean(-compute_metrics(*vars_tommy, \"neg_mean_absolute_error\")),\n",
    "            \"MAPE\": np.mean(-compute_metrics(*vars_tommy, \"neg_mean_absolute_percentage_error\")),\n",
    "        },\n",
    "        {\n",
    "            \"variedad\": \"Ataulfo\",\n",
    "            \"RMSE\": np.mean(-compute_metrics(*vars_ataulfo, \"neg_mean_squared_error\")),\n",
    "            \"MAE\": np.mean(-compute_metrics(*vars_ataulfo, \"neg_mean_absolute_error\")),\n",
    "            \"MAPE\": np.mean(-compute_metrics(*vars_ataulfo, \"neg_mean_absolute_percentage_error\")),\n",
    "        },\n",
    "    ]\n",
    ")\n",
    "metrics"
   ]
  },
  {
   "cell_type": "code",
   "execution_count": 20,
   "id": "8cf6aa4e",
   "metadata": {},
   "outputs": [],
   "source": [
    "import os\n",
    "import pickle\n",
    "\n",
    "os.makedirs(\"models\", exist_ok=True)\n",
    "pickle.dump(forest_regressor_tommy, open(\"models/forest_regressor_tommy.pickle\", \"wb\"))\n",
    "pickle.dump(forest_regressor_ataulfo, open(\"models/forest_regressor_ataulfo.pickle\", \"wb\"))"
   ]
  },
  {
   "cell_type": "code",
   "execution_count": null,
   "id": "ab9da063",
   "metadata": {},
   "outputs": [],
   "source": []
  }
 ],
 "metadata": {
  "kernelspec": {
   "display_name": "Python 3 (ipykernel)",
   "language": "python",
   "name": "python3"
  },
  "language_info": {
   "codemirror_mode": {
    "name": "ipython",
    "version": 3
   },
   "file_extension": ".py",
   "mimetype": "text/x-python",
   "name": "python",
   "nbconvert_exporter": "python",
   "pygments_lexer": "ipython3",
   "version": "3.10.9"
  }
 },
 "nbformat": 4,
 "nbformat_minor": 5
}
