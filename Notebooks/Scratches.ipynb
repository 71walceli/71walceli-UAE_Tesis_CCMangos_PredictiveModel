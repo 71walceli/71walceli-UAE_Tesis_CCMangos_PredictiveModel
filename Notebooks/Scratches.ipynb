{
 "cells": [
  {
   "cell_type": "code",
   "execution_count": 1,
   "id": "5b92af1d",
   "metadata": {},
   "outputs": [],
   "source": [
    "import pandas as pd"
   ]
  },
  {
   "cell_type": "code",
   "execution_count": 2,
   "id": "cabff4d9",
   "metadata": {},
   "outputs": [
    {
     "data": {
      "text/html": [
       "<div>\n",
       "<style scoped>\n",
       "    .dataframe tbody tr th:only-of-type {\n",
       "        vertical-align: middle;\n",
       "    }\n",
       "\n",
       "    .dataframe tbody tr th {\n",
       "        vertical-align: top;\n",
       "    }\n",
       "\n",
       "    .dataframe thead th {\n",
       "        text-align: right;\n",
       "    }\n",
       "</style>\n",
       "<table border=\"1\" class=\"dataframe\">\n",
       "  <thead>\n",
       "    <tr style=\"text-align: right;\">\n",
       "      <th></th>\n",
       "      <th>0</th>\n",
       "      <th>1</th>\n",
       "      <th>2</th>\n",
       "    </tr>\n",
       "  </thead>\n",
       "  <tbody>\n",
       "    <tr>\n",
       "      <th>0</th>\n",
       "      <td>1</td>\n",
       "      <td>2.0</td>\n",
       "      <td>3.0</td>\n",
       "    </tr>\n",
       "    <tr>\n",
       "      <th>1</th>\n",
       "      <td>10</td>\n",
       "      <td>NaN</td>\n",
       "      <td>30.0</td>\n",
       "    </tr>\n",
       "    <tr>\n",
       "      <th>2</th>\n",
       "      <td>100</td>\n",
       "      <td>NaN</td>\n",
       "      <td>NaN</td>\n",
       "    </tr>\n",
       "  </tbody>\n",
       "</table>\n",
       "</div>"
      ],
      "text/plain": [
       "     0    1     2\n",
       "0    1  2.0   3.0\n",
       "1   10  NaN  30.0\n",
       "2  100  NaN   NaN"
      ]
     },
     "execution_count": 2,
     "metadata": {},
     "output_type": "execute_result"
    }
   ],
   "source": [
    "# TODO Move to other notebook\n",
    "test = pd.DataFrame((\n",
    "    (1,2,3),\n",
    "    (10,float(\"NaN\"),30),\n",
    "    (100,float(\"NaN\"),float(\"NaN\"))\n",
    "))\n",
    "test"
   ]
  },
  {
   "cell_type": "code",
   "execution_count": 3,
   "id": "debeb38a",
   "metadata": {
    "scrolled": false
   },
   "outputs": [
    {
     "data": {
      "text/plain": [
       "0    37.0\n",
       "1     2.0\n",
       "2    16.5\n",
       "dtype: float64"
      ]
     },
     "execution_count": 3,
     "metadata": {},
     "output_type": "execute_result"
    }
   ],
   "source": [
    "test.mean(axis=0)"
   ]
  },
  {
   "cell_type": "code",
   "execution_count": 1,
   "id": "3e0b3330",
   "metadata": {},
   "outputs": [],
   "source": [
    "import matplotlib.pyplot as plt\n",
    "import numpy as np"
   ]
  },
  {
   "cell_type": "code",
   "execution_count": 2,
   "id": "a715c002",
   "metadata": {},
   "outputs": [],
   "source": [
    "# setup some generic data\n",
    "N = 37\n",
    "x, y = np.mgrid[:N, :N]"
   ]
  },
  {
   "cell_type": "code",
   "execution_count": 3,
   "id": "ba696411",
   "metadata": {},
   "outputs": [
    {
     "data": {
      "text/plain": [
       "array([[ 0,  0,  0, ...,  0,  0,  0],\n",
       "       [ 1,  1,  1, ...,  1,  1,  1],\n",
       "       [ 2,  2,  2, ...,  2,  2,  2],\n",
       "       ...,\n",
       "       [34, 34, 34, ..., 34, 34, 34],\n",
       "       [35, 35, 35, ..., 35, 35, 35],\n",
       "       [36, 36, 36, ..., 36, 36, 36]])"
      ]
     },
     "execution_count": 3,
     "metadata": {},
     "output_type": "execute_result"
    }
   ],
   "source": [
    "x"
   ]
  },
  {
   "cell_type": "code",
   "execution_count": 4,
   "id": "c4e03158",
   "metadata": {},
   "outputs": [
    {
     "data": {
      "text/plain": [
       "array([[ 0,  1,  2, ..., 34, 35, 36],\n",
       "       [ 0,  1,  2, ..., 34, 35, 36],\n",
       "       [ 0,  1,  2, ..., 34, 35, 36],\n",
       "       ...,\n",
       "       [ 0,  1,  2, ..., 34, 35, 36],\n",
       "       [ 0,  1,  2, ..., 34, 35, 36],\n",
       "       [ 0,  1,  2, ..., 34, 35, 36]])"
      ]
     },
     "execution_count": 4,
     "metadata": {},
     "output_type": "execute_result"
    }
   ],
   "source": [
    "y"
   ]
  },
  {
   "cell_type": "code",
   "execution_count": 9,
   "id": "f686d39f",
   "metadata": {},
   "outputs": [
    {
     "data": {
      "text/plain": [
       "array([[1.        , 1.19866933, 1.38941834, ..., 1.49411335, 1.6569866 ,\n",
       "        1.79366786],\n",
       "       [0.98006658, 1.17873591, 1.36948492, ..., 1.47417993, 1.63705318,\n",
       "        1.77373444],\n",
       "       [0.92106099, 1.11973032, 1.31047934, ..., 1.41517435, 1.57804759,\n",
       "        1.71472886],\n",
       "       ...,\n",
       "       [0.86939749, 1.06806682, 1.25881583, ..., 1.36351084, 1.52638409,\n",
       "        1.66306535],\n",
       "       [0.75390225, 0.95257159, 1.1433206 , ..., 1.24801561, 1.41088885,\n",
       "        1.54757012],\n",
       "       [0.60835131, 0.80702065, 0.99776966, ..., 1.10246467, 1.26533791,\n",
       "        1.40201918]])"
      ]
     },
     "execution_count": 9,
     "metadata": {},
     "output_type": "execute_result"
    }
   ],
   "source": [
    "Z = (np.cos(x*0.2) + np.sin(y*0.2))\n",
    "Z"
   ]
  },
  {
   "cell_type": "code",
   "execution_count": 10,
   "id": "3e9abf12",
   "metadata": {},
   "outputs": [
    {
     "data": {
      "text/plain": [
       "masked_array(\n",
       "  data=[[1.0, 1.1986693307950613, 1.3894183423086506, ...,\n",
       "         1.4941133511386089, 1.656986598718789, 1.7936678638491532],\n",
       "        [0.9800665778412416, 1.1787359086363027, 1.3694849201498922, ...,\n",
       "         1.4741799289798505, 1.6370531765600307, 1.7737344416903946],\n",
       "        [0.9210609940028851, 1.1197303247979464, 1.3104793363115357, ...,\n",
       "         1.415174345141494, 1.5780475927216742, 1.7147288578520383],\n",
       "        ...,\n",
       "        [0.8693974903498248, 1.068066821144886, 1.2588158326584753, ...,\n",
       "         1.3635108414884338, 1.526384089068614, 1.663065354198978],\n",
       "        [0.7539022543433046, 0.9525715851383658, 1.143320596651955, ...,\n",
       "         1.2480156054819136, 1.4108888530620938, 1.5475701181924577],\n",
       "        [0.6083513145322546, 0.8070206453273158, 0.9977696568409051, ...,\n",
       "         1.1024646656708634, 1.2653379132510436, 1.4020191783814075]],\n",
       "  mask=[[False, False, False, ..., False, False, False],\n",
       "        [False, False, False, ..., False, False, False],\n",
       "        [False, False, False, ..., False, False, False],\n",
       "        ...,\n",
       "        [False, False, False, ..., False, False, False],\n",
       "        [False, False, False, ..., False, False, False],\n",
       "        [False, False, False, ..., False, False, False]],\n",
       "  fill_value=1e+20)"
      ]
     },
     "execution_count": 10,
     "metadata": {},
     "output_type": "execute_result"
    }
   ],
   "source": [
    "# mask out the negative and positive values, respectively\n",
    "Zpos = np.ma.masked_less(Z, 0)\n",
    "Zpos"
   ]
  },
  {
   "cell_type": "code",
   "execution_count": 11,
   "id": "b13e8c4e",
   "metadata": {},
   "outputs": [
    {
     "data": {
      "text/plain": [
       "masked_array(\n",
       "  data=[[--, --, --, ..., --, --, --],\n",
       "        [--, --, --, ..., --, --, --],\n",
       "        [--, --, --, ..., --, --, --],\n",
       "        ...,\n",
       "        [--, --, --, ..., --, --, --],\n",
       "        [--, --, --, ..., --, --, --],\n",
       "        [--, --, --, ..., --, --, --]],\n",
       "  mask=[[ True,  True,  True, ...,  True,  True,  True],\n",
       "        [ True,  True,  True, ...,  True,  True,  True],\n",
       "        [ True,  True,  True, ...,  True,  True,  True],\n",
       "        ...,\n",
       "        [ True,  True,  True, ...,  True,  True,  True],\n",
       "        [ True,  True,  True, ...,  True,  True,  True],\n",
       "        [ True,  True,  True, ...,  True,  True,  True]],\n",
       "  fill_value=1e+20)"
      ]
     },
     "execution_count": 11,
     "metadata": {},
     "output_type": "execute_result"
    }
   ],
   "source": [
    "Zneg = np.ma.masked_greater(Z, 0)\n",
    "Zneg"
   ]
  },
  {
   "cell_type": "code",
   "execution_count": 12,
   "id": "f52c9197",
   "metadata": {},
   "outputs": [
    {
     "data": {
      "image/png": "[encoded data removed]",
      "text/plain": [
       "<Figure size 1300x300 with 2 Axes>"
      ]
     },
     "metadata": {},
     "output_type": "display_data"
    }
   ],
   "source": [
    "fig, ax = plt.subplots(figsize=(13, 3), ncols=1)\n",
    "\n",
    "# plot just the positive data and save the\n",
    "# color \"mappable\" object returned by ax1.imshow\n",
    "pos = ax.imshow(Z, cmap='RdBu', interpolation='none')\n",
    "\n",
    "# add the colorbar using the figure's method,\n",
    "# telling which mappable we're talking about and\n",
    "# which axes object it should be near\n",
    "\n",
    "# Add minorticks on the colorbar to make it easy to read the\n",
    "# values off the colorbar.\n",
    "cbar = fig.colorbar(pos, ax=ax, extend='both')\n",
    "cbar.minorticks_on()\n",
    "plt.show()"
   ]
  },
  {
   "cell_type": "code",
   "execution_count": 15,
   "id": "69db7919",
   "metadata": {},
   "outputs": [
    {
     "data": {
      "text/plain": [
       "(1, [2, 3, 4])"
      ]
     },
     "execution_count": 15,
     "metadata": {},
     "output_type": "execute_result"
    }
   ],
   "source": [
    "a1, *b = [1,2,3,4]\n",
    "(a1, b)"
   ]
  },
  {
   "cell_type": "code",
   "execution_count": null,
   "id": "fc75557d",
   "metadata": {},
   "outputs": [],
   "source": []
  },
  {
   "cell_type": "code",
   "execution_count": 37,
   "id": "889bd8de",
   "metadata": {},
   "outputs": [
    {
     "data": {
      "text/plain": [
       "array([ 1.        ,  1.29154967,  1.66810054,  2.15443469,  2.7825594 ,\n",
       "        3.59381366,  4.64158883,  5.9948425 ,  7.74263683, 10.        ])"
      ]
     },
     "execution_count": 37,
     "metadata": {},
     "output_type": "execute_result"
    }
   ],
   "source": [
    "x = np.geomspace(1,10,10)\n",
    "x"
   ]
  },
  {
   "cell_type": "code",
   "execution_count": 40,
   "id": "adc414e2",
   "metadata": {},
   "outputs": [
    {
     "data": {
      "text/plain": [
       "array([-1.        , -0.77777778, -0.55555556, -0.33333333, -0.11111111,\n",
       "        0.11111111,  0.33333333,  0.55555556,  0.77777778,  1.        ])"
      ]
     },
     "execution_count": 40,
     "metadata": {},
     "output_type": "execute_result"
    }
   ],
   "source": [
    "y = np.linspace(-1,1,10)\n",
    "y"
   ]
  },
  {
   "cell_type": "code",
   "execution_count": 41,
   "id": "d46efc25",
   "metadata": {},
   "outputs": [
    {
     "data": {
      "image/png": "[encoded data removed]",
      "text/plain": [
       "<Figure size 1300x300 with 1 Axes>"
      ]
     },
     "metadata": {},
     "output_type": "display_data"
    }
   ],
   "source": [
    "fig, ax = plt.subplots(figsize=(13, 3), ncols=1)\n",
    "\n",
    "# plot just the positive data and save the\n",
    "# color \"mappable\" object returned by ax1.imshow\n",
    "ax.plot(x, y,)\n",
    "\n",
    "# Add minorticks on the colorbar to make it easy to read the\n",
    "# values off the colorbar.\n",
    "plt.show()"
   ]
  },
  {
   "cell_type": "code",
   "execution_count": 43,
   "id": "3be09c3f",
   "metadata": {},
   "outputs": [
    {
     "data": {
      "text/plain": [
       "array([[0., 0., 0., 0.],\n",
       "       [0., 0., 0., 0.],\n",
       "       [0., 0., 0., 0.],\n",
       "       [0., 0., 0., 0.]])"
      ]
     },
     "execution_count": 43,
     "metadata": {},
     "output_type": "execute_result"
    }
   ],
   "source": [
    "np.zeros((4,4))"
   ]
  },
  {
   "cell_type": "code",
   "execution_count": 44,
   "id": "5bae10ab",
   "metadata": {},
   "outputs": [],
   "source": [
    "import pandas as pd"
   ]
  },
  {
   "cell_type": "code",
   "execution_count": 134,
   "id": "02daab0d",
   "metadata": {},
   "outputs": [
    {
     "data": {
      "text/plain": [
       "array([[32, 32, 32, 32, 30, 30, 30, 30, 33, 33, 33, 33],\n",
       "       ['2021-11-29', '2020-12-02', '2022-12-21', '2023-11-30',\n",
       "        '2020-12-03', '2021-12-04', '2022-11-30', '2023-12-01',\n",
       "        '2020-12-04', '2021-11-28', '2022-12-03', '2023-12-03']],\n",
       "      dtype=object)"
      ]
     },
     "execution_count": 134,
     "metadata": {},
     "output_type": "execute_result"
    }
   ],
   "source": [
    "producciones[[\"Id_Lote\", \"Fecha\"]].values.T"
   ]
  },
  {
   "cell_type": "code",
   "execution_count": 86,
   "id": "34c4bef6",
   "metadata": {},
   "outputs": [
    {
     "name": "stdout",
     "output_type": "stream",
     "text": [
      "   Cantidad       Fecha Id_Area  Id_Lote      Variedad\n",
      "4   11497.0  2020-12-03    None       30  Tommy Atkins\n",
      "   Cantidad       Fecha Id_Area  Id_Lote      Variedad\n",
      "5   13805.0  2021-12-04    None       30  Tommy Atkins\n",
      "   Cantidad       Fecha Id_Area  Id_Lote      Variedad\n",
      "6    9019.0  2022-11-30    None       30  Tommy Atkins\n",
      "   Cantidad       Fecha Id_Area  Id_Lote      Variedad\n",
      "7    8848.0  2023-12-01    None       30  Tommy Atkins\n",
      "   Cantidad       Fecha Id_Area  Id_Lote      Variedad\n",
      "1   11464.0  2020-12-02    None       32  Tommy Atkins\n",
      "   Cantidad       Fecha Id_Area  Id_Lote      Variedad\n",
      "0   14792.0  2021-11-29    None       32  Tommy Atkins\n",
      "   Cantidad       Fecha Id_Area  Id_Lote      Variedad\n",
      "2   11420.0  2022-12-21    None       32  Tommy Atkins\n",
      "   Cantidad       Fecha Id_Area  Id_Lote      Variedad\n",
      "3    9072.0  2023-11-30    None       32  Tommy Atkins\n",
      "   Cantidad       Fecha Id_Area  Id_Lote Variedad\n",
      "8    1677.0  2020-12-04    None       33  Ataulfo\n",
      "   Cantidad       Fecha Id_Area  Id_Lote Variedad\n",
      "9    2907.0  2021-11-28    None       33  Ataulfo\n",
      "    Cantidad       Fecha Id_Area  Id_Lote Variedad\n",
      "10    1350.0  2022-12-03    None       33  Ataulfo\n",
      "    Cantidad       Fecha Id_Area  Id_Lote Variedad\n",
      "11    1450.0  2023-12-03    None       33  Ataulfo\n"
     ]
    }
   ],
   "source": [
    "for produccion in producciones.groupby([\"Id_Lote\",\"Fecha\"]):\n",
    "    print(produccion[1])"
   ]
  },
  {
   "cell_type": "code",
   "execution_count": 173,
   "id": "d6342e12",
   "metadata": {},
   "outputs": [
    {
     "data": {
      "text/plain": [
       "32  2021    10\n",
       "    2020    11\n",
       "    2022     8\n",
       "    2023     9\n",
       "30  2020     7\n",
       "    2021     6\n",
       "    2022     3\n",
       "    2023     2\n",
       "33  2020     1\n",
       "    2021     4\n",
       "    2022     5\n",
       "    2023     0\n",
       "Name: Cantidad, dtype: int64"
      ]
     },
     "execution_count": 173,
     "metadata": {},
     "output_type": "execute_result"
    }
   ],
   "source": [
    "producciones[\"Cantidad\"].argsort()"
   ]
  },
  {
   "cell_type": "code",
   "execution_count": 175,
   "id": "8601b01b",
   "metadata": {},
   "outputs": [
    {
     "data": {
      "text/plain": [
       "Int64Index([32, 30, 33], dtype='int64')"
      ]
     },
     "execution_count": 175,
     "metadata": {},
     "output_type": "execute_result"
    }
   ],
   "source": [
    "producciones.index.unique(0)"
   ]
  },
  {
   "cell_type": "code",
   "execution_count": 176,
   "id": "d66624ee",
   "metadata": {},
   "outputs": [],
   "source": [
    "number_data_types = ['int16', 'int32', 'int64', 'float16', 'float32', 'float64']\n",
    "from numpy import random\n",
    "def generate_records(dataframe, no):\n",
    "    numeric_df_columns = dataframe.select_dtypes(include=number_data_types).columns\n",
    "    random_df = pd.DataFrame([], columns=numeric_df_columns)\n",
    "    for column in numeric_df_columns:\n",
    "        random_df[column] = random.normal(datos_clima[column].mean(), datos_clima[column].std(),no)\n",
    "    return random_df"
   ]
  },
  {
   "cell_type": "code",
   "execution_count": null,
   "id": "ff52ee6a",
   "metadata": {},
   "outputs": [],
   "source": [
    "x_synth = generate_records(datos_clima, 100)\n",
    "x_synth"
   ]
  },
  {
   "cell_type": "code",
   "execution_count": null,
   "id": "3b7f3095",
   "metadata": {},
   "outputs": [],
   "source": []
  },
  {
   "cell_type": "code",
   "execution_count": null,
   "id": "d4eca440",
   "metadata": {},
   "outputs": [],
   "source": []
  },
  {
   "cell_type": "code",
   "execution_count": null,
   "id": "8d30f493",
   "metadata": {},
   "outputs": [],
   "source": []
  }
 ],
 "metadata": {
  "kernelspec": {
   "display_name": "Python 3 (ipykernel)",
   "language": "python",
   "name": "python3"
  },
  "language_info": {
   "codemirror_mode": {
    "name": "ipython",
    "version": 3
   },
   "file_extension": ".py",
   "mimetype": "text/x-python",
   "name": "python",
   "nbconvert_exporter": "python",
   "pygments_lexer": "ipython3",
   "version": "3.10.9"
  }
 },
 "nbformat": 4,
 "nbformat_minor": 5
}
