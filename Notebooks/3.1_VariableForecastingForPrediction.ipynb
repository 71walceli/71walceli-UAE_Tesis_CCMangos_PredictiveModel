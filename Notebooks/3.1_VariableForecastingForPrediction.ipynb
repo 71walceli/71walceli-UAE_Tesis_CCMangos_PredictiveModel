{
 "cells": [
  {
   "cell_type": "code",
   "execution_count": 2,
   "id": "6414256d",
   "metadata": {},
   "outputs": [],
   "source": [
    "import pandas as pd\n",
    "import numpy as np"
   ]
  },
  {
   "cell_type": "markdown",
   "id": "3c0ad0a6",
   "metadata": {},
   "source": [
    "# Data Loading"
   ]
  },
  {
   "cell_type": "code",
   "execution_count": 35,
   "id": "52edcfbd",
   "metadata": {},
   "outputs": [
    {
     "data": {
      "text/html": [
       "<div>\n",
       "<style scoped>\n",
       "    .dataframe tbody tr th:only-of-type {\n",
       "        vertical-align: middle;\n",
       "    }\n",
       "\n",
       "    .dataframe tbody tr th {\n",
       "        vertical-align: top;\n",
       "    }\n",
       "\n",
       "    .dataframe thead th {\n",
       "        text-align: right;\n",
       "    }\n",
       "</style>\n",
       "<table border=\"1\" class=\"dataframe\">\n",
       "  <thead>\n",
       "    <tr style=\"text-align: right;\">\n",
       "      <th></th>\n",
       "      <th>Temp_Air_Mean</th>\n",
       "      <th>Temp_Air_Min</th>\n",
       "      <th>Temp_Air_Max</th>\n",
       "      <th>Relat_Hum_Mean</th>\n",
       "      <th>Relat_Hum_Min</th>\n",
       "      <th>Relat_Hum_Max</th>\n",
       "      <th>Wind_Speed_Mean</th>\n",
       "      <th>Wind_Speed_Min</th>\n",
       "      <th>Wind_Speed_Max</th>\n",
       "    </tr>\n",
       "    <tr>\n",
       "      <th>Date</th>\n",
       "      <th></th>\n",
       "      <th></th>\n",
       "      <th></th>\n",
       "      <th></th>\n",
       "      <th></th>\n",
       "      <th></th>\n",
       "      <th></th>\n",
       "      <th></th>\n",
       "      <th></th>\n",
       "    </tr>\n",
       "  </thead>\n",
       "  <tbody>\n",
       "    <tr>\n",
       "      <th>2017-01-05 19:00:00-05:00</th>\n",
       "      <td>24.00</td>\n",
       "      <td>21.39</td>\n",
       "      <td>29.39</td>\n",
       "      <td>85.0</td>\n",
       "      <td>64.0</td>\n",
       "      <td>96.0</td>\n",
       "      <td>1.03</td>\n",
       "      <td>0.00</td>\n",
       "      <td>3.08</td>\n",
       "    </tr>\n",
       "    <tr>\n",
       "      <th>2017-01-06 19:00:00-05:00</th>\n",
       "      <td>22.67</td>\n",
       "      <td>21.11</td>\n",
       "      <td>27.00</td>\n",
       "      <td>85.0</td>\n",
       "      <td>67.0</td>\n",
       "      <td>92.0</td>\n",
       "      <td>2.32</td>\n",
       "      <td>0.09</td>\n",
       "      <td>5.72</td>\n",
       "    </tr>\n",
       "    <tr>\n",
       "      <th>2017-01-07 19:00:00-05:00</th>\n",
       "      <td>22.56</td>\n",
       "      <td>19.78</td>\n",
       "      <td>26.61</td>\n",
       "      <td>86.0</td>\n",
       "      <td>67.0</td>\n",
       "      <td>96.0</td>\n",
       "      <td>1.03</td>\n",
       "      <td>0.00</td>\n",
       "      <td>5.90</td>\n",
       "    </tr>\n",
       "    <tr>\n",
       "      <th>2017-01-08 19:00:00-05:00</th>\n",
       "      <td>22.44</td>\n",
       "      <td>20.22</td>\n",
       "      <td>25.89</td>\n",
       "      <td>83.0</td>\n",
       "      <td>70.0</td>\n",
       "      <td>92.0</td>\n",
       "      <td>1.70</td>\n",
       "      <td>0.00</td>\n",
       "      <td>5.72</td>\n",
       "    </tr>\n",
       "    <tr>\n",
       "      <th>2017-01-09 19:00:00-05:00</th>\n",
       "      <td>23.89</td>\n",
       "      <td>20.72</td>\n",
       "      <td>31.78</td>\n",
       "      <td>76.0</td>\n",
       "      <td>48.0</td>\n",
       "      <td>90.0</td>\n",
       "      <td>1.97</td>\n",
       "      <td>0.00</td>\n",
       "      <td>5.72</td>\n",
       "    </tr>\n",
       "    <tr>\n",
       "      <th>...</th>\n",
       "      <td>...</td>\n",
       "      <td>...</td>\n",
       "      <td>...</td>\n",
       "      <td>...</td>\n",
       "      <td>...</td>\n",
       "      <td>...</td>\n",
       "      <td>...</td>\n",
       "      <td>...</td>\n",
       "      <td>...</td>\n",
       "    </tr>\n",
       "    <tr>\n",
       "      <th>2023-11-24 19:00:00-05:00</th>\n",
       "      <td>26.00</td>\n",
       "      <td>21.00</td>\n",
       "      <td>32.00</td>\n",
       "      <td>51.0</td>\n",
       "      <td>47.0</td>\n",
       "      <td>91.0</td>\n",
       "      <td>2.00</td>\n",
       "      <td>1.00</td>\n",
       "      <td>3.00</td>\n",
       "    </tr>\n",
       "    <tr>\n",
       "      <th>2023-11-25 19:00:00-05:00</th>\n",
       "      <td>25.00</td>\n",
       "      <td>22.00</td>\n",
       "      <td>28.00</td>\n",
       "      <td>65.0</td>\n",
       "      <td>65.0</td>\n",
       "      <td>84.0</td>\n",
       "      <td>2.00</td>\n",
       "      <td>2.00</td>\n",
       "      <td>3.00</td>\n",
       "    </tr>\n",
       "    <tr>\n",
       "      <th>2023-11-26 19:00:00-05:00</th>\n",
       "      <td>25.00</td>\n",
       "      <td>22.00</td>\n",
       "      <td>30.00</td>\n",
       "      <td>57.0</td>\n",
       "      <td>57.0</td>\n",
       "      <td>85.0</td>\n",
       "      <td>2.00</td>\n",
       "      <td>1.00</td>\n",
       "      <td>3.00</td>\n",
       "    </tr>\n",
       "    <tr>\n",
       "      <th>2023-11-27 19:00:00-05:00</th>\n",
       "      <td>26.00</td>\n",
       "      <td>22.00</td>\n",
       "      <td>33.00</td>\n",
       "      <td>49.0</td>\n",
       "      <td>49.0</td>\n",
       "      <td>90.0</td>\n",
       "      <td>2.00</td>\n",
       "      <td>1.00</td>\n",
       "      <td>3.00</td>\n",
       "    </tr>\n",
       "    <tr>\n",
       "      <th>2023-11-28 19:00:00-05:00</th>\n",
       "      <td>23.00</td>\n",
       "      <td>22.00</td>\n",
       "      <td>26.00</td>\n",
       "      <td>68.0</td>\n",
       "      <td>68.0</td>\n",
       "      <td>83.0</td>\n",
       "      <td>2.00</td>\n",
       "      <td>1.00</td>\n",
       "      <td>2.00</td>\n",
       "    </tr>\n",
       "  </tbody>\n",
       "</table>\n",
       "<p>2302 rows × 9 columns</p>\n",
       "</div>"
      ],
      "text/plain": [
       "                           Temp_Air_Mean  Temp_Air_Min  Temp_Air_Max  \\\n",
       "Date                                                                   \n",
       "2017-01-05 19:00:00-05:00          24.00         21.39         29.39   \n",
       "2017-01-06 19:00:00-05:00          22.67         21.11         27.00   \n",
       "2017-01-07 19:00:00-05:00          22.56         19.78         26.61   \n",
       "2017-01-08 19:00:00-05:00          22.44         20.22         25.89   \n",
       "2017-01-09 19:00:00-05:00          23.89         20.72         31.78   \n",
       "...                                  ...           ...           ...   \n",
       "2023-11-24 19:00:00-05:00          26.00         21.00         32.00   \n",
       "2023-11-25 19:00:00-05:00          25.00         22.00         28.00   \n",
       "2023-11-26 19:00:00-05:00          25.00         22.00         30.00   \n",
       "2023-11-27 19:00:00-05:00          26.00         22.00         33.00   \n",
       "2023-11-28 19:00:00-05:00          23.00         22.00         26.00   \n",
       "\n",
       "                           Relat_Hum_Mean  Relat_Hum_Min  Relat_Hum_Max  \\\n",
       "Date                                                                      \n",
       "2017-01-05 19:00:00-05:00            85.0           64.0           96.0   \n",
       "2017-01-06 19:00:00-05:00            85.0           67.0           92.0   \n",
       "2017-01-07 19:00:00-05:00            86.0           67.0           96.0   \n",
       "2017-01-08 19:00:00-05:00            83.0           70.0           92.0   \n",
       "2017-01-09 19:00:00-05:00            76.0           48.0           90.0   \n",
       "...                                   ...            ...            ...   \n",
       "2023-11-24 19:00:00-05:00            51.0           47.0           91.0   \n",
       "2023-11-25 19:00:00-05:00            65.0           65.0           84.0   \n",
       "2023-11-26 19:00:00-05:00            57.0           57.0           85.0   \n",
       "2023-11-27 19:00:00-05:00            49.0           49.0           90.0   \n",
       "2023-11-28 19:00:00-05:00            68.0           68.0           83.0   \n",
       "\n",
       "                           Wind_Speed_Mean  Wind_Speed_Min  Wind_Speed_Max  \n",
       "Date                                                                        \n",
       "2017-01-05 19:00:00-05:00             1.03            0.00            3.08  \n",
       "2017-01-06 19:00:00-05:00             2.32            0.09            5.72  \n",
       "2017-01-07 19:00:00-05:00             1.03            0.00            5.90  \n",
       "2017-01-08 19:00:00-05:00             1.70            0.00            5.72  \n",
       "2017-01-09 19:00:00-05:00             1.97            0.00            5.72  \n",
       "...                                    ...             ...             ...  \n",
       "2023-11-24 19:00:00-05:00             2.00            1.00            3.00  \n",
       "2023-11-25 19:00:00-05:00             2.00            2.00            3.00  \n",
       "2023-11-26 19:00:00-05:00             2.00            1.00            3.00  \n",
       "2023-11-27 19:00:00-05:00             2.00            1.00            3.00  \n",
       "2023-11-28 19:00:00-05:00             2.00            1.00            2.00  \n",
       "\n",
       "[2302 rows x 9 columns]"
      ]
     },
     "execution_count": 35,
     "metadata": {},
     "output_type": "execute_result"
    }
   ],
   "source": [
    "datos_clima =  pd.read_pickle(\"etlData/datos_clima.pickle\")\n",
    "datos_clima"
   ]
  },
  {
   "cell_type": "code",
   "execution_count": 13,
   "id": "f5432dae",
   "metadata": {},
   "outputs": [],
   "source": [
    "tendency_exclude = [\"Wind_Speed_Min\"]"
   ]
  },
  {
   "cell_type": "markdown",
   "id": "ff967693",
   "metadata": {},
   "source": [
    "# Prep before training"
   ]
  },
  {
   "cell_type": "code",
   "execution_count": 30,
   "id": "40eb97a3",
   "metadata": {},
   "outputs": [],
   "source": [
    "variable = \"Temp_Air_Mean\""
   ]
  },
  {
   "cell_type": "code",
   "execution_count": 36,
   "id": "84984fc6",
   "metadata": {},
   "outputs": [
    {
     "data": {
      "text/plain": [
       "Date\n",
       "2017-12-31 00:00:00-05:00    23.756970\n",
       "2018-12-31 00:00:00-05:00    24.364903\n",
       "2019-12-31 00:00:00-05:00    25.014582\n",
       "2020-12-31 00:00:00-05:00    25.185706\n",
       "2021-12-31 00:00:00-05:00    24.789749\n",
       "2022-12-31 00:00:00-05:00    24.146771\n",
       "2023-12-31 00:00:00-05:00    25.346386\n",
       "Freq: A-DEC, Name: Temp_Air_Mean, dtype: float64"
      ]
     },
     "execution_count": 36,
     "metadata": {},
     "output_type": "execute_result"
    }
   ],
   "source": [
    "datos_clima[variable].resample(\"Y\").mean()"
   ]
  },
  {
   "cell_type": "code",
   "execution_count": 37,
   "id": "fc52e6ae",
   "metadata": {},
   "outputs": [
    {
     "data": {
      "text/plain": [
       "Date\n",
       "2017-01-31 00:00:00-05:00    23.111429\n",
       "2017-02-28 00:00:00-05:00    23.357143\n",
       "2017-03-31 00:00:00-05:00    23.815714\n",
       "2017-04-30 00:00:00-05:00    23.364286\n",
       "2017-05-31 00:00:00-05:00    24.916667\n",
       "                               ...    \n",
       "2023-07-31 00:00:00-05:00    25.129032\n",
       "2023-08-31 00:00:00-05:00    24.225806\n",
       "2023-09-30 00:00:00-05:00    24.733333\n",
       "2023-10-31 00:00:00-05:00    24.903226\n",
       "2023-11-30 00:00:00-05:00    24.964286\n",
       "Freq: M, Name: Temp_Air_Mean, Length: 83, dtype: float64"
      ]
     },
     "execution_count": 37,
     "metadata": {},
     "output_type": "execute_result"
    }
   ],
   "source": [
    "datos_clima[variable].resample(\"M\").mean()"
   ]
  },
  {
   "cell_type": "code",
   "execution_count": 41,
   "id": "18e738b9",
   "metadata": {},
   "outputs": [],
   "source": [
    "future_year = 2025\n"
   ]
  },
  {
   "cell_type": "markdown",
   "id": "8ed7c999",
   "metadata": {},
   "source": [
    "## Opción 2"
   ]
  },
  {
   "cell_type": "code",
   "execution_count": 10,
   "id": "e3f99fbc",
   "metadata": {},
   "outputs": [
    {
     "data": {
      "text/plain": [
       "32  2021    14792.0\n",
       "    2020    11464.0\n",
       "    2022    11420.0\n",
       "    2023     9072.0\n",
       "30  2020    11497.0\n",
       "    2021    13805.0\n",
       "    2022     9019.0\n",
       "    2023     8848.0\n",
       "Name: Cantidad, dtype: float64"
      ]
     },
     "execution_count": 10,
     "metadata": {},
     "output_type": "execute_result"
    }
   ],
   "source": [
    "y_tommy = y[y[\"Variedad\"] == \"Tommy Atkins\"][\"Cantidad\"]#.values\n",
    "y_tommy"
   ]
  },
  {
   "cell_type": "code",
   "execution_count": 11,
   "id": "2850468e",
   "metadata": {},
   "outputs": [
    {
     "data": {
      "text/plain": [
       "33  2020    1677.0\n",
       "    2021    2907.0\n",
       "    2022    1350.0\n",
       "    2023    1450.0\n",
       "Name: Cantidad, dtype: float64"
      ]
     },
     "execution_count": 11,
     "metadata": {},
     "output_type": "execute_result"
    }
   ],
   "source": [
    "y_ataulfo = y[y[\"Variedad\"] == \"Ataulfo\"][\"Cantidad\"]#.values\n",
    "y_ataulfo"
   ]
  },
  {
   "cell_type": "markdown",
   "id": "d69c4684",
   "metadata": {},
   "source": [
    "# Model Training"
   ]
  },
  {
   "cell_type": "markdown",
   "id": "7e6d1dc1",
   "metadata": {},
   "source": [
    "## Decision trees"
   ]
  },
  {
   "cell_type": "code",
   "execution_count": 12,
   "id": "aff213ff",
   "metadata": {},
   "outputs": [],
   "source": [
    "from sklearn.linear_model import LinearRegression"
   ]
  },
  {
   "cell_type": "code",
   "execution_count": null,
   "id": "81dacdde",
   "metadata": {},
   "outputs": [],
   "source": []
  },
  {
   "cell_type": "code",
   "execution_count": null,
   "id": "63c7ccbd",
   "metadata": {},
   "outputs": [],
   "source": []
  }
 ],
 "metadata": {
  "kernelspec": {
   "display_name": "Python 3 (ipykernel)",
   "language": "python",
   "name": "python3"
  },
  "language_info": {
   "codemirror_mode": {
    "name": "ipython",
    "version": 3
   },
   "file_extension": ".py",
   "mimetype": "text/x-python",
   "name": "python",
   "nbconvert_exporter": "python",
   "pygments_lexer": "ipython3",
   "version": "3.10.9"
  }
 },
 "nbformat": 4,
 "nbformat_minor": 5
}
