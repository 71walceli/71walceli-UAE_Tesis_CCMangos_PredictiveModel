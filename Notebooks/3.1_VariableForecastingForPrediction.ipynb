{
 "cells": [
  {
   "cell_type": "code",
   "execution_count": 1,
   "id": "6414256d",
   "metadata": {},
   "outputs": [],
   "source": [
    "import pandas as pd\n",
    "import numpy as np"
   ]
  },
  {
   "cell_type": "markdown",
   "id": "3c0ad0a6",
   "metadata": {},
   "source": [
    "# Data Loading"
   ]
  },
  {
   "cell_type": "code",
   "execution_count": 2,
   "id": "52edcfbd",
   "metadata": {},
   "outputs": [
    {
     "data": {
      "text/html": [
       "<div>\n",
       "<style scoped>\n",
       "    .dataframe tbody tr th:only-of-type {\n",
       "        vertical-align: middle;\n",
       "    }\n",
       "\n",
       "    .dataframe tbody tr th {\n",
       "        vertical-align: top;\n",
       "    }\n",
       "\n",
       "    .dataframe thead th {\n",
       "        text-align: right;\n",
       "    }\n",
       "</style>\n",
       "<table border=\"1\" class=\"dataframe\">\n",
       "  <thead>\n",
       "    <tr style=\"text-align: right;\">\n",
       "      <th></th>\n",
       "      <th>Temp_Air_Mean</th>\n",
       "      <th>Temp_Air_Min</th>\n",
       "      <th>Temp_Air_Max</th>\n",
       "      <th>Dew_Temp_Mean</th>\n",
       "      <th>Relat_Hum_Mean</th>\n",
       "      <th>Relat_Hum_Min</th>\n",
       "      <th>Relat_Hum_Max</th>\n",
       "      <th>Wind_Speed_Mean</th>\n",
       "      <th>Wind_Speed_Min</th>\n",
       "      <th>Wind_Speed_Max</th>\n",
       "    </tr>\n",
       "    <tr>\n",
       "      <th>Date</th>\n",
       "      <th></th>\n",
       "      <th></th>\n",
       "      <th></th>\n",
       "      <th></th>\n",
       "      <th></th>\n",
       "      <th></th>\n",
       "      <th></th>\n",
       "      <th></th>\n",
       "      <th></th>\n",
       "      <th></th>\n",
       "    </tr>\n",
       "  </thead>\n",
       "  <tbody>\n",
       "    <tr>\n",
       "      <th>2017-01-05 19:00:00-05:00</th>\n",
       "      <td>24.00</td>\n",
       "      <td>21.39</td>\n",
       "      <td>29.39</td>\n",
       "      <td>21.28</td>\n",
       "      <td>85.0</td>\n",
       "      <td>64.0</td>\n",
       "      <td>96.0</td>\n",
       "      <td>1.03</td>\n",
       "      <td>0.00</td>\n",
       "      <td>3.08</td>\n",
       "    </tr>\n",
       "    <tr>\n",
       "      <th>2017-01-06 19:00:00-05:00</th>\n",
       "      <td>22.67</td>\n",
       "      <td>21.11</td>\n",
       "      <td>27.00</td>\n",
       "      <td>20.00</td>\n",
       "      <td>85.0</td>\n",
       "      <td>67.0</td>\n",
       "      <td>92.0</td>\n",
       "      <td>2.32</td>\n",
       "      <td>0.09</td>\n",
       "      <td>5.72</td>\n",
       "    </tr>\n",
       "    <tr>\n",
       "      <th>2017-01-07 19:00:00-05:00</th>\n",
       "      <td>22.56</td>\n",
       "      <td>19.78</td>\n",
       "      <td>26.61</td>\n",
       "      <td>20.00</td>\n",
       "      <td>86.0</td>\n",
       "      <td>67.0</td>\n",
       "      <td>96.0</td>\n",
       "      <td>1.03</td>\n",
       "      <td>0.00</td>\n",
       "      <td>5.90</td>\n",
       "    </tr>\n",
       "    <tr>\n",
       "      <th>2017-01-08 19:00:00-05:00</th>\n",
       "      <td>22.44</td>\n",
       "      <td>20.22</td>\n",
       "      <td>25.89</td>\n",
       "      <td>19.39</td>\n",
       "      <td>83.0</td>\n",
       "      <td>70.0</td>\n",
       "      <td>92.0</td>\n",
       "      <td>1.70</td>\n",
       "      <td>0.00</td>\n",
       "      <td>5.72</td>\n",
       "    </tr>\n",
       "    <tr>\n",
       "      <th>2017-01-09 19:00:00-05:00</th>\n",
       "      <td>23.89</td>\n",
       "      <td>20.72</td>\n",
       "      <td>31.78</td>\n",
       "      <td>19.22</td>\n",
       "      <td>76.0</td>\n",
       "      <td>48.0</td>\n",
       "      <td>90.0</td>\n",
       "      <td>1.97</td>\n",
       "      <td>0.00</td>\n",
       "      <td>5.72</td>\n",
       "    </tr>\n",
       "    <tr>\n",
       "      <th>...</th>\n",
       "      <td>...</td>\n",
       "      <td>...</td>\n",
       "      <td>...</td>\n",
       "      <td>...</td>\n",
       "      <td>...</td>\n",
       "      <td>...</td>\n",
       "      <td>...</td>\n",
       "      <td>...</td>\n",
       "      <td>...</td>\n",
       "      <td>...</td>\n",
       "    </tr>\n",
       "    <tr>\n",
       "      <th>2023-11-25 00:00:00-05:00</th>\n",
       "      <td>26.00</td>\n",
       "      <td>21.00</td>\n",
       "      <td>32.00</td>\n",
       "      <td>21.00</td>\n",
       "      <td>47.0</td>\n",
       "      <td>91.0</td>\n",
       "      <td>51.0</td>\n",
       "      <td>2.00</td>\n",
       "      <td>1.00</td>\n",
       "      <td>3.00</td>\n",
       "    </tr>\n",
       "    <tr>\n",
       "      <th>2023-11-26 00:00:00-05:00</th>\n",
       "      <td>25.00</td>\n",
       "      <td>22.00</td>\n",
       "      <td>28.00</td>\n",
       "      <td>20.00</td>\n",
       "      <td>65.0</td>\n",
       "      <td>84.0</td>\n",
       "      <td>65.0</td>\n",
       "      <td>2.00</td>\n",
       "      <td>2.00</td>\n",
       "      <td>3.00</td>\n",
       "    </tr>\n",
       "    <tr>\n",
       "      <th>2023-11-27 00:00:00-05:00</th>\n",
       "      <td>25.00</td>\n",
       "      <td>22.00</td>\n",
       "      <td>30.00</td>\n",
       "      <td>20.00</td>\n",
       "      <td>57.0</td>\n",
       "      <td>85.0</td>\n",
       "      <td>57.0</td>\n",
       "      <td>2.00</td>\n",
       "      <td>1.00</td>\n",
       "      <td>3.00</td>\n",
       "    </tr>\n",
       "    <tr>\n",
       "      <th>2023-11-28 00:00:00-05:00</th>\n",
       "      <td>26.00</td>\n",
       "      <td>22.00</td>\n",
       "      <td>33.00</td>\n",
       "      <td>20.00</td>\n",
       "      <td>49.0</td>\n",
       "      <td>90.0</td>\n",
       "      <td>49.0</td>\n",
       "      <td>2.00</td>\n",
       "      <td>1.00</td>\n",
       "      <td>3.00</td>\n",
       "    </tr>\n",
       "    <tr>\n",
       "      <th>2023-11-29 00:00:00-05:00</th>\n",
       "      <td>23.00</td>\n",
       "      <td>22.00</td>\n",
       "      <td>26.00</td>\n",
       "      <td>20.00</td>\n",
       "      <td>68.0</td>\n",
       "      <td>83.0</td>\n",
       "      <td>68.0</td>\n",
       "      <td>2.00</td>\n",
       "      <td>1.00</td>\n",
       "      <td>2.00</td>\n",
       "    </tr>\n",
       "  </tbody>\n",
       "</table>\n",
       "<p>2300 rows × 10 columns</p>\n",
       "</div>"
      ],
      "text/plain": [
       "                           Temp_Air_Mean  Temp_Air_Min  Temp_Air_Max  \\\n",
       "Date                                                                   \n",
       "2017-01-05 19:00:00-05:00          24.00         21.39         29.39   \n",
       "2017-01-06 19:00:00-05:00          22.67         21.11         27.00   \n",
       "2017-01-07 19:00:00-05:00          22.56         19.78         26.61   \n",
       "2017-01-08 19:00:00-05:00          22.44         20.22         25.89   \n",
       "2017-01-09 19:00:00-05:00          23.89         20.72         31.78   \n",
       "...                                  ...           ...           ...   \n",
       "2023-11-25 00:00:00-05:00          26.00         21.00         32.00   \n",
       "2023-11-26 00:00:00-05:00          25.00         22.00         28.00   \n",
       "2023-11-27 00:00:00-05:00          25.00         22.00         30.00   \n",
       "2023-11-28 00:00:00-05:00          26.00         22.00         33.00   \n",
       "2023-11-29 00:00:00-05:00          23.00         22.00         26.00   \n",
       "\n",
       "                           Dew_Temp_Mean  Relat_Hum_Mean  Relat_Hum_Min  \\\n",
       "Date                                                                      \n",
       "2017-01-05 19:00:00-05:00          21.28            85.0           64.0   \n",
       "2017-01-06 19:00:00-05:00          20.00            85.0           67.0   \n",
       "2017-01-07 19:00:00-05:00          20.00            86.0           67.0   \n",
       "2017-01-08 19:00:00-05:00          19.39            83.0           70.0   \n",
       "2017-01-09 19:00:00-05:00          19.22            76.0           48.0   \n",
       "...                                  ...             ...            ...   \n",
       "2023-11-25 00:00:00-05:00          21.00            47.0           91.0   \n",
       "2023-11-26 00:00:00-05:00          20.00            65.0           84.0   \n",
       "2023-11-27 00:00:00-05:00          20.00            57.0           85.0   \n",
       "2023-11-28 00:00:00-05:00          20.00            49.0           90.0   \n",
       "2023-11-29 00:00:00-05:00          20.00            68.0           83.0   \n",
       "\n",
       "                           Relat_Hum_Max  Wind_Speed_Mean  Wind_Speed_Min  \\\n",
       "Date                                                                        \n",
       "2017-01-05 19:00:00-05:00           96.0             1.03            0.00   \n",
       "2017-01-06 19:00:00-05:00           92.0             2.32            0.09   \n",
       "2017-01-07 19:00:00-05:00           96.0             1.03            0.00   \n",
       "2017-01-08 19:00:00-05:00           92.0             1.70            0.00   \n",
       "2017-01-09 19:00:00-05:00           90.0             1.97            0.00   \n",
       "...                                  ...              ...             ...   \n",
       "2023-11-25 00:00:00-05:00           51.0             2.00            1.00   \n",
       "2023-11-26 00:00:00-05:00           65.0             2.00            2.00   \n",
       "2023-11-27 00:00:00-05:00           57.0             2.00            1.00   \n",
       "2023-11-28 00:00:00-05:00           49.0             2.00            1.00   \n",
       "2023-11-29 00:00:00-05:00           68.0             2.00            1.00   \n",
       "\n",
       "                           Wind_Speed_Max  \n",
       "Date                                       \n",
       "2017-01-05 19:00:00-05:00            3.08  \n",
       "2017-01-06 19:00:00-05:00            5.72  \n",
       "2017-01-07 19:00:00-05:00            5.90  \n",
       "2017-01-08 19:00:00-05:00            5.72  \n",
       "2017-01-09 19:00:00-05:00            5.72  \n",
       "...                                   ...  \n",
       "2023-11-25 00:00:00-05:00            3.00  \n",
       "2023-11-26 00:00:00-05:00            3.00  \n",
       "2023-11-27 00:00:00-05:00            3.00  \n",
       "2023-11-28 00:00:00-05:00            3.00  \n",
       "2023-11-29 00:00:00-05:00            2.00  \n",
       "\n",
       "[2300 rows x 10 columns]"
      ]
     },
     "execution_count": 2,
     "metadata": {},
     "output_type": "execute_result"
    }
   ],
   "source": [
    "datos_clima =  pd.read_pickle(\"etlData/datos_clima.pickle\")\n",
    "datos_clima"
   ]
  },
  {
   "cell_type": "code",
   "execution_count": 3,
   "id": "f5432dae",
   "metadata": {},
   "outputs": [],
   "source": [
    "tendency_exclude = [\"Wind_Speed_Min\"]"
   ]
  },
  {
   "cell_type": "markdown",
   "id": "ff967693",
   "metadata": {},
   "source": [
    "# Prep before training"
   ]
  },
  {
   "cell_type": "code",
   "execution_count": 4,
   "id": "18e738b9",
   "metadata": {},
   "outputs": [],
   "source": [
    "future_year = 2025\n"
   ]
  },
  {
   "cell_type": "markdown",
   "id": "d69c4684",
   "metadata": {},
   "source": [
    "# Model Training"
   ]
  },
  {
   "cell_type": "markdown",
   "id": "7e6d1dc1",
   "metadata": {},
   "source": [
    "## SARIMAX"
   ]
  },
  {
   "cell_type": "code",
   "execution_count": 5,
   "id": "aff213ff",
   "metadata": {},
   "outputs": [
    {
     "name": "stdout",
     "output_type": "stream",
     "text": [
      "Requirement already satisfied: pmdarima in /home/jupyter/anaconda3/lib/python3.10/site-packages (2.0.4)\n",
      "Requirement already satisfied: numpy>=1.21.2 in /home/jupyter/anaconda3/lib/python3.10/site-packages (from pmdarima) (1.23.5)\n",
      "Requirement already satisfied: pandas>=0.19 in /home/jupyter/anaconda3/lib/python3.10/site-packages (from pmdarima) (1.5.3)\n",
      "Requirement already satisfied: packaging>=17.1 in /home/jupyter/anaconda3/lib/python3.10/site-packages (from pmdarima) (22.0)\n",
      "Requirement already satisfied: statsmodels>=0.13.2 in /home/jupyter/anaconda3/lib/python3.10/site-packages (from pmdarima) (0.13.5)\n",
      "Requirement already satisfied: scipy>=1.3.2 in /home/jupyter/anaconda3/lib/python3.10/site-packages (from pmdarima) (1.10.0)\n",
      "Requirement already satisfied: joblib>=0.11 in /home/jupyter/anaconda3/lib/python3.10/site-packages (from pmdarima) (1.1.1)\n",
      "Requirement already satisfied: setuptools!=50.0.0,>=38.6.0 in /home/jupyter/anaconda3/lib/python3.10/site-packages (from pmdarima) (65.6.3)\n",
      "Requirement already satisfied: urllib3 in /home/jupyter/anaconda3/lib/python3.10/site-packages (from pmdarima) (1.26.14)\n",
      "Requirement already satisfied: scikit-learn>=0.22 in /home/jupyter/anaconda3/lib/python3.10/site-packages (from pmdarima) (1.2.1)\n",
      "Requirement already satisfied: Cython!=0.29.18,!=0.29.31,>=0.29 in /home/jupyter/anaconda3/lib/python3.10/site-packages (from pmdarima) (3.0.10)\n",
      "Requirement already satisfied: python-dateutil>=2.8.1 in /home/jupyter/anaconda3/lib/python3.10/site-packages (from pandas>=0.19->pmdarima) (2.8.2)\n",
      "Requirement already satisfied: pytz>=2020.1 in /home/jupyter/anaconda3/lib/python3.10/site-packages (from pandas>=0.19->pmdarima) (2022.7)\n",
      "Requirement already satisfied: threadpoolctl>=2.0.0 in /home/jupyter/anaconda3/lib/python3.10/site-packages (from scikit-learn>=0.22->pmdarima) (2.2.0)\n",
      "Requirement already satisfied: patsy>=0.5.2 in /home/jupyter/anaconda3/lib/python3.10/site-packages (from statsmodels>=0.13.2->pmdarima) (0.5.3)\n",
      "Requirement already satisfied: six in /home/jupyter/anaconda3/lib/python3.10/site-packages (from patsy>=0.5.2->statsmodels>=0.13.2->pmdarima) (1.16.0)\n"
     ]
    }
   ],
   "source": [
    "!pip install pmdarima"
   ]
  },
  {
   "cell_type": "code",
   "execution_count": 6,
   "id": "be7c106c",
   "metadata": {},
   "outputs": [],
   "source": [
    "from pmdarima.arima import auto_arima\n",
    "import timeseries as ts"
   ]
  },
  {
   "cell_type": "code",
   "execution_count": 7,
   "id": "9d72a39b",
   "metadata": {},
   "outputs": [],
   "source": [
    "from importlib import reload  # Python 3.4+\n",
    "ts = reload(ts)"
   ]
  },
  {
   "cell_type": "code",
   "execution_count": 8,
   "id": "5e5eeeb6",
   "metadata": {},
   "outputs": [
    {
     "data": {
      "text/plain": [
       "{'Tommy Atkins': array(['Wind_Speed_Mean', 'Relat_Hum_Mean', 'Wind_Speed_Min',\n",
       "        'Relat_Hum_Max'], dtype=object),\n",
       " 'Ataulfo': array(['Wind_Speed_Mean', 'Relat_Hum_Mean'], dtype=object)}"
      ]
     },
     "execution_count": 8,
     "metadata": {},
     "output_type": "execute_result"
    }
   ],
   "source": [
    "import pickle as pkl\n",
    "\n",
    "with open(\"./variablesSeleccionadas.pkl\", \"rb+\") as f:\n",
    "    variables_seleccionadas = pkl.loads(f.read())\n",
    "variables_seleccionadas"
   ]
  },
  {
   "cell_type": "code",
   "execution_count": 9,
   "id": "d000a394",
   "metadata": {},
   "outputs": [],
   "source": [
    "from functools import reduce"
   ]
  },
  {
   "cell_type": "code",
   "execution_count": 10,
   "id": "57b350b4",
   "metadata": {
    "scrolled": true
   },
   "outputs": [
    {
     "data": {
      "text/plain": [
       "{'Relat_Hum_Max', 'Relat_Hum_Mean', 'Wind_Speed_Mean', 'Wind_Speed_Min'}"
      ]
     },
     "execution_count": 10,
     "metadata": {},
     "output_type": "execute_result"
    }
   ],
   "source": [
    "variables_seleccionadas = reduce(lambda s1,s2: s1 | s2, \n",
    "    list(set(valores) for valores in variables_seleccionadas.values()), \n",
    "    set()\n",
    ")\n",
    "\n",
    "variables_seleccionadas"
   ]
  },
  {
   "cell_type": "code",
   "execution_count": 11,
   "id": "28870af2",
   "metadata": {},
   "outputs": [],
   "source": [
    "from datetime import datetime\n",
    "from collections import defaultdict"
   ]
  },
  {
   "cell_type": "code",
   "execution_count": 12,
   "id": "408b28da",
   "metadata": {},
   "outputs": [],
   "source": [
    "cutoff = datetime(2022,6,2)\n",
    "arimas = dict()\n",
    "all_train = dict()\n",
    "all_test = dict()"
   ]
  },
  {
   "cell_type": "code",
   "execution_count": 13,
   "id": "81dacdde",
   "metadata": {
    "scrolled": true
   },
   "outputs": [
    {
     "name": "stderr",
     "output_type": "stream",
     "text": [
      "/Notebooks/timeseries.py:5: FutureWarning: Indexing a timezone-aware DatetimeIndex with a timezone-naive datetime is deprecated and will raise KeyError in a future version. Use a timezone-aware object instead.\n",
      "  train = timeseries.loc[:cutoff]\n",
      "/Notebooks/timeseries.py:6: FutureWarning: Indexing a timezone-aware DatetimeIndex with a timezone-naive datetime is deprecated and will raise KeyError in a future version. Use a timezone-aware object instead.\n",
      "  test = timeseries.loc[cutoff:]\n"
     ]
    }
   ],
   "source": [
    "for variable in variables_seleccionadas:\n",
    "    data = datos_clima[variable]\n",
    "    train,test = ts.train_test_split(data, cutoff)\n",
    "    all_train[variable] = train\n",
    "    all_test[variable] = test\n",
    "#arimas"
   ]
  },
  {
   "cell_type": "code",
   "execution_count": 21,
   "id": "69ddcf63",
   "metadata": {
    "scrolled": true
   },
   "outputs": [
    {
     "name": "stdout",
     "output_type": "stream",
     "text": [
      "Trained ARIMA for Wind_Speed_Mean ::                                SARIMAX Results                                \n",
      "==============================================================================\n",
      "Dep. Variable:                      y   No. Observations:                 1745\n",
      "Model:               SARIMAX(2, 1, 1)   Log Likelihood                -976.169\n",
      "Date:                Tue, 23 Jul 2024   AIC                           1960.338\n",
      "Time:                        03:51:08   BIC                           1982.193\n",
      "Sample:                             0   HQIC                          1968.418\n",
      "                               - 1745                                         \n",
      "Covariance Type:                  opg                                         \n",
      "==============================================================================\n",
      "                 coef    std err          z      P>|z|      [0.025      0.975]\n",
      "------------------------------------------------------------------------------\n",
      "ar.L1          0.4153      0.021     19.534      0.000       0.374       0.457\n",
      "ar.L2          0.1137      0.023      4.912      0.000       0.068       0.159\n",
      "ma.L1         -0.9585      0.008   -116.385      0.000      -0.975      -0.942\n",
      "sigma2         0.1792      0.005     33.851      0.000       0.169       0.190\n",
      "===================================================================================\n",
      "Ljung-Box (L1) (Q):                   0.00   Jarque-Bera (JB):                69.51\n",
      "Prob(Q):                              0.97   Prob(JB):                         0.00\n",
      "Heteroskedasticity (H):               1.45   Skew:                             0.32\n",
      "Prob(H) (two-sided):                  0.00   Kurtosis:                         3.75\n",
      "===================================================================================\n",
      "\n",
      "Warnings:\n",
      "[1] Covariance matrix calculated using the outer product of gradients (complex-step).\n",
      "Trained ARIMA for Wind_Speed_Min ::                                SARIMAX Results                                \n",
      "==============================================================================\n",
      "Dep. Variable:                      y   No. Observations:                 1745\n",
      "Model:               SARIMAX(0, 0, 1)   Log Likelihood                2757.349\n",
      "Date:                Tue, 23 Jul 2024   AIC                          -5510.699\n",
      "Time:                        03:51:23   BIC                          -5499.770\n",
      "Sample:                             0   HQIC                         -5506.658\n",
      "                               - 1745                                         \n",
      "Covariance Type:                  opg                                         \n",
      "==============================================================================\n",
      "                 coef    std err          z      P>|z|      [0.025      0.975]\n",
      "------------------------------------------------------------------------------\n",
      "ma.L1          0.5198      0.014     36.936      0.000       0.492       0.547\n",
      "sigma2         0.0025   3.05e-06    813.988      0.000       0.002       0.002\n",
      "===================================================================================\n",
      "Ljung-Box (L1) (Q):                   0.00   Jarque-Bera (JB):         167164773.48\n",
      "Prob(Q):                              0.96   Prob(JB):                         0.00\n",
      "Heteroskedasticity (H):               0.00   Skew:                            37.83\n",
      "Prob(H) (two-sided):                  0.00   Kurtosis:                      1517.39\n",
      "===================================================================================\n",
      "\n",
      "Warnings:\n",
      "[1] Covariance matrix calculated using the outer product of gradients (complex-step).\n",
      "Trained ARIMA for Relat_Hum_Max ::                                SARIMAX Results                                \n",
      "==============================================================================\n",
      "Dep. Variable:                      y   No. Observations:                 1745\n",
      "Model:               SARIMAX(1, 1, 2)   Log Likelihood               -4232.969\n",
      "Date:                Tue, 23 Jul 2024   AIC                           8473.937\n",
      "Time:                        03:53:30   BIC                           8495.793\n",
      "Sample:                             0   HQIC                          8482.018\n",
      "                               - 1745                                         \n",
      "Covariance Type:                  opg                                         \n",
      "==============================================================================\n",
      "                 coef    std err          z      P>|z|      [0.025      0.975]\n",
      "------------------------------------------------------------------------------\n",
      "ar.L1          0.5250      0.060      8.686      0.000       0.407       0.643\n",
      "ma.L1         -1.1733      0.066    -17.872      0.000      -1.302      -1.045\n",
      "ma.L2          0.2069      0.060      3.459      0.001       0.090       0.324\n",
      "sigma2         7.5043      0.161     46.683      0.000       7.189       7.819\n",
      "===================================================================================\n",
      "Ljung-Box (L1) (Q):                   0.01   Jarque-Bera (JB):               922.87\n",
      "Prob(Q):                              0.94   Prob(JB):                         0.00\n",
      "Heteroskedasticity (H):               0.85   Skew:                            -0.72\n",
      "Prob(H) (two-sided):                  0.05   Kurtosis:                         6.26\n",
      "===================================================================================\n",
      "\n",
      "Warnings:\n",
      "[1] Covariance matrix calculated using the outer product of gradients (complex-step).\n",
      "Trained ARIMA for Relat_Hum_Mean ::                                      SARIMAX Results                                      \n",
      "==========================================================================================\n",
      "Dep. Variable:                                  y   No. Observations:                 1745\n",
      "Model:             SARIMAX(1, 0, 0)x(2, 0, 0, 12)   Log Likelihood               -5351.165\n",
      "Date:                            Tue, 23 Jul 2024   AIC                          10712.329\n",
      "Time:                                    03:55:27   BIC                          10739.652\n",
      "Sample:                                         0   HQIC                         10722.431\n",
      "                                           - 1745                                         \n",
      "Covariance Type:                              opg                                         \n",
      "==============================================================================\n",
      "                 coef    std err          z      P>|z|      [0.025      0.975]\n",
      "------------------------------------------------------------------------------\n",
      "intercept     45.3912      1.865     24.336      0.000      41.735      49.047\n",
      "ar.L1          0.3918      0.018     22.137      0.000       0.357       0.426\n",
      "ar.S.L12       0.0335      0.022      1.509      0.131      -0.010       0.077\n",
      "ar.S.L24       0.0363      0.023      1.571      0.116      -0.009       0.082\n",
      "sigma2        26.9856      0.675     39.992      0.000      25.663      28.308\n",
      "===================================================================================\n",
      "Ljung-Box (L1) (Q):                   3.75   Jarque-Bera (JB):               215.64\n",
      "Prob(Q):                              0.05   Prob(JB):                         0.00\n",
      "Heteroskedasticity (H):               1.22   Skew:                            -0.07\n",
      "Prob(H) (two-sided):                  0.02   Kurtosis:                         4.72\n",
      "===================================================================================\n",
      "\n",
      "Warnings:\n",
      "[1] Covariance matrix calculated using the outer product of gradients (complex-step).\n"
     ]
    }
   ],
   "source": [
    "for variable in variables_seleccionadas:\n",
    "    data = datos_clima[variable].resample(\"M\").mean()\n",
    "    train = all_train[variable]\n",
    "    autoARIMA = auto_arima(train, seasonal=True, m=12)\n",
    "    autoARIMA.fit(train)\n",
    "    arimas[variable] = autoARIMA\n",
    "    print(f\"Trained ARIMA for {variable} :: {autoARIMA.summary()}\")\n",
    "#arimas"
   ]
  },
  {
   "cell_type": "code",
   "execution_count": 15,
   "id": "e38a17b4",
   "metadata": {},
   "outputs": [],
   "source": [
    "import sarimax_utils as srm"
   ]
  },
  {
   "cell_type": "code",
   "execution_count": 16,
   "id": "99597fed",
   "metadata": {},
   "outputs": [
    {
     "name": "stderr",
     "output_type": "stream",
     "text": [
      "/home/jupyter/anaconda3/lib/python3.10/site-packages/statsmodels/tsa/base/tsa_model.py:834: ValueWarning: No supported index is available. Prediction results will be given with an integer index beginning at `start`.\n",
      "  return get_prediction_index(\n",
      "/home/jupyter/anaconda3/lib/python3.10/site-packages/statsmodels/tsa/base/tsa_model.py:834: ValueWarning: No supported index is available. Prediction results will be given with an integer index beginning at `start`.\n",
      "  return get_prediction_index(\n",
      "/home/jupyter/anaconda3/lib/python3.10/site-packages/statsmodels/tsa/base/tsa_model.py:834: ValueWarning: No supported index is available. Prediction results will be given with an integer index beginning at `start`.\n",
      "  return get_prediction_index(\n",
      "/home/jupyter/anaconda3/lib/python3.10/site-packages/statsmodels/tsa/base/tsa_model.py:834: ValueWarning: No supported index is available. Prediction results will be given with an integer index beginning at `start`.\n",
      "  return get_prediction_index(\n"
     ]
    },
    {
     "data": {
      "text/plain": [
       "{'Wind_Speed_Mean':            min     value       max\n",
       " 1745 -0.028999  0.800699  1.630398\n",
       " 1746 -0.101302  0.810836  1.722974\n",
       " 1747 -0.090792  0.865167  1.821126\n",
       " 1748 -0.087024  0.888882  1.864788\n",
       " 1749 -0.082223  0.904909  1.892041\n",
       " 1750 -0.079942  0.914262  1.908465\n",
       " 1751 -0.079294  0.919968  1.919231\n",
       " 1752 -0.079866  0.923402  1.926670\n",
       " 1753 -0.081219  0.925477  1.932172\n",
       " 1754 -0.083065  0.926729  1.936523\n",
       " 1755 -0.085215  0.927485  1.940184\n",
       " 1756 -0.087548  0.927941  1.943430,\n",
       " 'Wind_Speed_Min':            min          value       max\n",
       " 1745 -0.097652  4.592750e-239  0.097652\n",
       " 1746 -0.110058   0.000000e+00  0.110058\n",
       " 1747 -0.110058   0.000000e+00  0.110058\n",
       " 1748 -0.110058   0.000000e+00  0.110058\n",
       " 1749 -0.110058   0.000000e+00  0.110058\n",
       " 1750 -0.110058   0.000000e+00  0.110058\n",
       " 1751 -0.110058   0.000000e+00  0.110058\n",
       " 1752 -0.110058   0.000000e+00  0.110058\n",
       " 1753 -0.110058   0.000000e+00  0.110058\n",
       " 1754 -0.110058   0.000000e+00  0.110058\n",
       " 1755 -0.110058   0.000000e+00  0.110058\n",
       " 1756 -0.110058   0.000000e+00  0.110058,\n",
       " 'Relat_Hum_Max':             min      value         max\n",
       " 1745  91.452951  96.822076  102.191201\n",
       " 1746  91.085796  96.777291  102.468787\n",
       " 1747  90.942958  96.753780  102.564603\n",
       " 1748  90.876446  96.741437  102.606429\n",
       " 1749  90.839585  96.734958  102.630331\n",
       " 1750  90.815519  96.731556  102.647593\n",
       " 1751  90.797423  96.729770  102.662117\n",
       " 1752  90.782264  96.728832  102.675401\n",
       " 1753  90.768600  96.728340  102.688080\n",
       " 1754  90.755717  96.728082  102.700447\n",
       " 1755  90.743249  96.727946  102.712643\n",
       " 1756  90.731010  96.727875  102.724740,\n",
       " 'Relat_Hum_Mean':             min      value        max\n",
       " 1745  72.788598  82.970155  93.151712\n",
       " 1746  70.161660  81.096679  92.031698\n",
       " 1747  69.232130  80.278243  91.324356\n",
       " 1748  69.292160  80.355226  91.418291\n",
       " 1749  69.430863  80.496528  91.562193\n",
       " 1750  69.234696  80.300760  91.366823\n",
       " 1751  69.091169  80.157294  91.223419\n",
       " 1752  69.008932  80.075067  91.141201\n",
       " 1753  68.980979  80.047114  91.113250\n",
       " 1754  69.652450  80.718586  91.784722\n",
       " 1755  68.954261  80.020397  91.086534\n",
       " 1756  69.484735  80.550871  91.617007}"
      ]
     },
     "execution_count": 16,
     "metadata": {},
     "output_type": "execute_result"
    }
   ],
   "source": [
    "all_predictions = dict()\n",
    "metrics = pd.DataFrame(columns=[\"Variable\", \"RMSE\"])\n",
    "for variable in variables_seleccionadas:\n",
    "    autoARIMA = arimas[variable]\n",
    "    predictions = srm.predict(autoARIMA, 12)\n",
    "    all_predictions[variable] = predictions\n",
    "all_predictions"
   ]
  },
  {
   "cell_type": "code",
   "execution_count": 17,
   "id": "b5f0677c",
   "metadata": {},
   "outputs": [],
   "source": [
    "import numpy as np\n",
    "from sklearn.metrics import mean_squared_error, mean_absolute_error, mean_absolute_percentage_error"
   ]
  },
  {
   "cell_type": "code",
   "execution_count": 18,
   "id": "0d55dd81",
   "metadata": {},
   "outputs": [
    {
     "name": "stderr",
     "output_type": "stream",
     "text": [
      "/tmp/ipykernel_658/221005650.py:21: FutureWarning: The frame.append method is deprecated and will be removed from pandas in a future version. Use pandas.concat instead.\n",
      "  metrics = metrics.append(\n",
      "/tmp/ipykernel_658/221005650.py:21: FutureWarning: The frame.append method is deprecated and will be removed from pandas in a future version. Use pandas.concat instead.\n",
      "  metrics = metrics.append(\n",
      "/tmp/ipykernel_658/221005650.py:21: FutureWarning: The frame.append method is deprecated and will be removed from pandas in a future version. Use pandas.concat instead.\n",
      "  metrics = metrics.append(\n",
      "/tmp/ipykernel_658/221005650.py:21: FutureWarning: The frame.append method is deprecated and will be removed from pandas in a future version. Use pandas.concat instead.\n",
      "  metrics = metrics.append(\n"
     ]
    },
    {
     "data": {
      "text/html": [
       "<div>\n",
       "<style scoped>\n",
       "    .dataframe tbody tr th:only-of-type {\n",
       "        vertical-align: middle;\n",
       "    }\n",
       "\n",
       "    .dataframe tbody tr th {\n",
       "        vertical-align: top;\n",
       "    }\n",
       "\n",
       "    .dataframe thead th {\n",
       "        text-align: right;\n",
       "    }\n",
       "</style>\n",
       "<table border=\"1\" class=\"dataframe\">\n",
       "  <thead>\n",
       "    <tr style=\"text-align: right;\">\n",
       "      <th></th>\n",
       "      <th>Variable</th>\n",
       "      <th>RMSE</th>\n",
       "      <th>MAE</th>\n",
       "      <th>MAPE</th>\n",
       "    </tr>\n",
       "  </thead>\n",
       "  <tbody>\n",
       "    <tr>\n",
       "      <th>3</th>\n",
       "      <td>Relat_Hum_Mean</td>\n",
       "      <td>8.233194</td>\n",
       "      <td>6.732500e+00</td>\n",
       "      <td>9.353612e-02</td>\n",
       "    </tr>\n",
       "    <tr>\n",
       "      <th>2</th>\n",
       "      <td>Relat_Hum_Max</td>\n",
       "      <td>3.902830</td>\n",
       "      <td>2.417091e+00</td>\n",
       "      <td>2.655632e-02</td>\n",
       "    </tr>\n",
       "    <tr>\n",
       "      <th>0</th>\n",
       "      <td>Wind_Speed_Mean</td>\n",
       "      <td>0.400292</td>\n",
       "      <td>3.512838e-01</td>\n",
       "      <td>3.784971e-01</td>\n",
       "    </tr>\n",
       "    <tr>\n",
       "      <th>1</th>\n",
       "      <td>Wind_Speed_Min</td>\n",
       "      <td>0.000000</td>\n",
       "      <td>3.827292e-240</td>\n",
       "      <td>1.723659e-224</td>\n",
       "    </tr>\n",
       "  </tbody>\n",
       "</table>\n",
       "</div>"
      ],
      "text/plain": [
       "          Variable      RMSE            MAE           MAPE\n",
       "3   Relat_Hum_Mean  8.233194   6.732500e+00   9.353612e-02\n",
       "2    Relat_Hum_Max  3.902830   2.417091e+00   2.655632e-02\n",
       "0  Wind_Speed_Mean  0.400292   3.512838e-01   3.784971e-01\n",
       "1   Wind_Speed_Min  0.000000  3.827292e-240  1.723659e-224"
      ]
     },
     "execution_count": 18,
     "metadata": {},
     "output_type": "execute_result"
    }
   ],
   "source": [
    "metrics = pd.DataFrame(columns=[\"Variable\"])\n",
    "for variable in all_predictions:\n",
    "    autoARIMA = arimas[variable]\n",
    "    test = all_test[variable]\n",
    "    predictions = all_predictions[variable]\n",
    "    row = {\n",
    "        \"Variable\": variable, \n",
    "        \"RMSE\": np.sqrt(mean_squared_error(\n",
    "            test.iloc[0:12], \n",
    "            predictions.iloc[0:12][\"value\"], \n",
    "        )),\n",
    "        \"MAE\": mean_absolute_error(\n",
    "            test.iloc[0:12], \n",
    "            predictions.iloc[0:12][\"value\"], \n",
    "        ),\n",
    "        \"MAPE\": mean_absolute_percentage_error(\n",
    "            test.iloc[0:12], \n",
    "            predictions.iloc[0:12][\"value\"], \n",
    "        ),\n",
    "    }\n",
    "    metrics = metrics.append(\n",
    "        row,\n",
    "        ignore_index=True,\n",
    "    )\n",
    "metrics.sort_values(\"RMSE\", ascending=False)"
   ]
  },
  {
   "cell_type": "code",
   "execution_count": 19,
   "id": "2df92a42",
   "metadata": {},
   "outputs": [
    {
     "data": {
      "text/plain": [
       "pmdarima.arima.arima.ARIMA"
      ]
     },
     "execution_count": 19,
     "metadata": {},
     "output_type": "execute_result"
    }
   ],
   "source": [
    "type(arimas[\"Relat_Hum_Max\"])"
   ]
  },
  {
   "cell_type": "code",
   "execution_count": 20,
   "id": "0dafce29",
   "metadata": {},
   "outputs": [],
   "source": [
    "import os\n",
    "MODELS_DIR=\"models\"\n",
    "os.makedirs(MODELS_DIR, exist_ok=True)\n",
    "ARIMAS_PATH = f\"{MODELS_DIR}/arimas.pkl\"\n",
    "\n",
    "with open(ARIMAS_PATH, \"wb\") as f:\n",
    "    pkl.dump(arimas, f)"
   ]
  },
  {
   "cell_type": "code",
   "execution_count": null,
   "id": "c740cabf",
   "metadata": {},
   "outputs": [],
   "source": []
  },
  {
   "cell_type": "code",
   "execution_count": null,
   "id": "6046f6c2",
   "metadata": {},
   "outputs": [],
   "source": []
  },
  {
   "cell_type": "code",
   "execution_count": null,
   "id": "2784cd81",
   "metadata": {},
   "outputs": [],
   "source": []
  },
  {
   "cell_type": "code",
   "execution_count": null,
   "id": "6f31f028",
   "metadata": {},
   "outputs": [],
   "source": []
  },
  {
   "cell_type": "code",
   "execution_count": null,
   "id": "841ed249",
   "metadata": {},
   "outputs": [],
   "source": []
  },
  {
   "cell_type": "code",
   "execution_count": null,
   "id": "eb490589",
   "metadata": {},
   "outputs": [],
   "source": []
  },
  {
   "cell_type": "code",
   "execution_count": null,
   "id": "8c068613",
   "metadata": {},
   "outputs": [],
   "source": []
  },
  {
   "cell_type": "code",
   "execution_count": null,
   "id": "4cecb569",
   "metadata": {},
   "outputs": [],
   "source": []
  },
  {
   "cell_type": "code",
   "execution_count": null,
   "id": "bf7c834f",
   "metadata": {},
   "outputs": [],
   "source": []
  }
 ],
 "metadata": {
  "kernelspec": {
   "display_name": "Python 3 (ipykernel)",
   "language": "python",
   "name": "python3"
  },
  "language_info": {
   "codemirror_mode": {
    "name": "ipython",
    "version": 3
   },
   "file_extension": ".py",
   "mimetype": "text/x-python",
   "name": "python",
   "nbconvert_exporter": "python",
   "pygments_lexer": "ipython3",
   "version": "3.10.9"
  }
 },
 "nbformat": 4,
 "nbformat_minor": 5
}
