{
 "cells": [
  {
   "cell_type": "code",
   "execution_count": 1,
   "id": "8c17b0ea",
   "metadata": {},
   "outputs": [],
   "source": [
    "import pandas as pd\n",
    "import numpy as np\n",
    "import matplotlib.pyplot as plt"
   ]
  },
  {
   "cell_type": "code",
   "execution_count": 26,
   "id": "0291613b",
   "metadata": {},
   "outputs": [
    {
     "data": {
      "text/html": [
       "<div>\n",
       "<style scoped>\n",
       "    .dataframe tbody tr th:only-of-type {\n",
       "        vertical-align: middle;\n",
       "    }\n",
       "\n",
       "    .dataframe tbody tr th {\n",
       "        vertical-align: top;\n",
       "    }\n",
       "\n",
       "    .dataframe thead th {\n",
       "        text-align: right;\n",
       "    }\n",
       "</style>\n",
       "<table border=\"1\" class=\"dataframe\">\n",
       "  <thead>\n",
       "    <tr style=\"text-align: right;\">\n",
       "      <th></th>\n",
       "      <th>x1</th>\n",
       "      <th>x2</th>\n",
       "    </tr>\n",
       "  </thead>\n",
       "  <tbody>\n",
       "    <tr>\n",
       "      <th>0</th>\n",
       "      <td>7</td>\n",
       "      <td>0.991094</td>\n",
       "    </tr>\n",
       "    <tr>\n",
       "      <th>1</th>\n",
       "      <td>6</td>\n",
       "      <td>0.613184</td>\n",
       "    </tr>\n",
       "    <tr>\n",
       "      <th>2</th>\n",
       "      <td>8</td>\n",
       "      <td>0.117962</td>\n",
       "    </tr>\n",
       "    <tr>\n",
       "      <th>3</th>\n",
       "      <td>8</td>\n",
       "      <td>0.229633</td>\n",
       "    </tr>\n",
       "    <tr>\n",
       "      <th>4</th>\n",
       "      <td>8</td>\n",
       "      <td>0.373977</td>\n",
       "    </tr>\n",
       "    <tr>\n",
       "      <th>...</th>\n",
       "      <td>...</td>\n",
       "      <td>...</td>\n",
       "    </tr>\n",
       "    <tr>\n",
       "      <th>95</th>\n",
       "      <td>6</td>\n",
       "      <td>0.766142</td>\n",
       "    </tr>\n",
       "    <tr>\n",
       "      <th>96</th>\n",
       "      <td>6</td>\n",
       "      <td>0.149860</td>\n",
       "    </tr>\n",
       "    <tr>\n",
       "      <th>97</th>\n",
       "      <td>8</td>\n",
       "      <td>0.913779</td>\n",
       "    </tr>\n",
       "    <tr>\n",
       "      <th>98</th>\n",
       "      <td>7</td>\n",
       "      <td>0.835400</td>\n",
       "    </tr>\n",
       "    <tr>\n",
       "      <th>99</th>\n",
       "      <td>7</td>\n",
       "      <td>0.702187</td>\n",
       "    </tr>\n",
       "  </tbody>\n",
       "</table>\n",
       "<p>100 rows × 2 columns</p>\n",
       "</div>"
      ],
      "text/plain": [
       "    x1        x2\n",
       "0    7  0.991094\n",
       "1    6  0.613184\n",
       "2    8  0.117962\n",
       "3    8  0.229633\n",
       "4    8  0.373977\n",
       "..  ..       ...\n",
       "95   6  0.766142\n",
       "96   6  0.149860\n",
       "97   8  0.913779\n",
       "98   7  0.835400\n",
       "99   7  0.702187\n",
       "\n",
       "[100 rows x 2 columns]"
      ]
     },
     "execution_count": 26,
     "metadata": {},
     "output_type": "execute_result"
    }
   ],
   "source": [
    "data = pd.DataFrame({\n",
    "    \"x1\": np.random.randint(6,10,(100,)),\n",
    "    \"x2\": np.random.random((100,))\n",
    "})\n",
    "data"
   ]
  },
  {
   "cell_type": "code",
   "execution_count": 29,
   "id": "b2bd89e4",
   "metadata": {
    "scrolled": true
   },
   "outputs": [
    {
     "data": {
      "text/plain": [
       "x1\n",
       "6    15\n",
       "7    33\n",
       "8    33\n",
       "9    19\n",
       "dtype: int64"
      ]
     },
     "execution_count": 29,
     "metadata": {},
     "output_type": "execute_result"
    }
   ],
   "source": [
    "x1 = data.groupby(\"x1\",).size()\n",
    "x1"
   ]
  },
  {
   "cell_type": "code",
   "execution_count": 164,
   "id": "e2d3ac98",
   "metadata": {},
   "outputs": [],
   "source": [
    "def freq_bar(x, **plt_args):\n",
    "    x = x.value_counts()\n",
    "    return plt.bar(x.index.values, x.values, **plt_args)"
   ]
  },
  {
   "cell_type": "code",
   "execution_count": 165,
   "id": "23d6ba1c",
   "metadata": {},
   "outputs": [
    {
     "data": {
      "text/plain": [
       "<BarContainer object of 4 artists>"
      ]
     },
     "execution_count": 165,
     "metadata": {},
     "output_type": "execute_result"
    },
    {
     "data": {
      "image/png": "[encoded data removed]",
      "text/plain": [
       "<Figure size 640x480 with 1 Axes>"
      ]
     },
     "metadata": {},
     "output_type": "display_data"
    }
   ],
   "source": [
    "freq_bar(data[\"x1\"])"
   ]
  },
  {
   "cell_type": "code",
   "execution_count": 166,
   "id": "dc6039e4",
   "metadata": {},
   "outputs": [],
   "source": [
    "def range_labels(start, end, size, decimals=None):\n",
    "    step = 1 / size\n",
    "    values = np.linspace(start,end,size+1)\n",
    "    return [f\"{i1:.2}-{i2:.2}\" for i1,i2 in zip(values[:-1],values[1:])]"
   ]
  },
  {
   "cell_type": "code",
   "execution_count": 177,
   "id": "a2b3c736",
   "metadata": {},
   "outputs": [],
   "source": [
    "def freq_bar_ranges(x, size, **plt_args):\n",
    "    step = 1/size\n",
    "    bins = np.arange(0,1+step,step)\n",
    "    x_bins = pd.DataFrame()\n",
    "    x_bins[\"bin\"] = np.digitize(x, bins)\n",
    "    x_bins[\"value\"] = x\n",
    "    x_counts = x_bins.groupby(\"bin\").size()\n",
    "    bars = plt.bar(x_counts.index, x_counts, **plt_args)\n",
    "    plt.xticks(ticks=range(1,size+1), labels=range_labels(x.min(),x.max(),size))\n",
    "    return bars"
   ]
  },
  {
   "cell_type": "code",
   "execution_count": 178,
   "id": "d780eb69",
   "metadata": {},
   "outputs": [
    {
     "data": {
      "text/plain": [
       "<BarContainer object of 5 artists>"
      ]
     },
     "execution_count": 178,
     "metadata": {},
     "output_type": "execute_result"
    },
    {
     "data": {
      "image/png": "[encoded data removed]",
      "text/plain": [
       "<Figure size 640x480 with 1 Axes>"
      ]
     },
     "metadata": {},
     "output_type": "display_data"
    }
   ],
   "source": [
    "freq_bar_ranges(data[\"x2\"], 5)"
   ]
  },
  {
   "cell_type": "code",
   "execution_count": null,
   "id": "0994308d",
   "metadata": {},
   "outputs": [],
   "source": []
  }
 ],
 "metadata": {
  "kernelspec": {
   "display_name": "Python 3 (ipykernel)",
   "language": "python",
   "name": "python3"
  },
  "language_info": {
   "codemirror_mode": {
    "name": "ipython",
    "version": 3
   },
   "file_extension": ".py",
   "mimetype": "text/x-python",
   "name": "python",
   "nbconvert_exporter": "python",
   "pygments_lexer": "ipython3",
   "version": "3.10.9"
  }
 },
 "nbformat": 4,
 "nbformat_minor": 5
}
